{
 "cells": [
  {
   "cell_type": "code",
   "execution_count": null,
   "metadata": {},
   "outputs": [],
   "source": [
    "import pandas as pd\n",
    "import seaborn as sns"
   ]
  },
  {
   "cell_type": "code",
   "execution_count": null,
   "metadata": {},
   "outputs": [],
   "source": [
    "VSDMPL_DATA = \"\" # path to parquet"
   ]
  },
  {
   "cell_type": "code",
   "execution_count": null,
   "metadata": {},
   "outputs": [],
   "source": [
    "df = pd.read_parquet(VSDMPL_DATA)\n",
    "df"
   ]
  },
  {
   "cell_type": "code",
   "execution_count": null,
   "metadata": {},
   "outputs": [],
   "source": [
    "# ultimate_hosts = df[df['upid'] == -1]"
   ]
  },
  {
   "cell_type": "code",
   "execution_count": null,
   "metadata": {},
   "outputs": [],
   "source": [
    "########################## TO DO: FIND & APPLY MEANINGFUL MAX CUTOFF APPROXIMATION -- APPLY MAGNITUDE LIMITATIONS OF SAGA SURVEY & __ DISTANCE? #######################\n",
    "# Filter by most massive\n",
    "subs = df[df['upid'] != -1][df['mvir'] >= 1.0e+10]\n",
    "subs.sort_values(by=['pid', 'id'])"
   ]
  },
  {
   "cell_type": "markdown",
   "metadata": {},
   "source": [
    "<h2>Plot & Plot data</h2>"
   ]
  },
  {
   "cell_type": "code",
   "execution_count": null,
   "metadata": {},
   "outputs": [],
   "source": [
    "subs_test = subs.groupby(['pid']).filter(lambda x: len(x) > 2)\n",
    "\n",
    "# add dummy rows to put parent data in graph - just easy method for graph grouping\n",
    "test_parents = subs_test['pid'].unique()\n",
    "subs_test_with_hosts = subs_test.copy()\n",
    "\n",
    "for parent_id in test_parents:\n",
    "    row = df[df['id'] == parent_id].copy()\n",
    "    row['pid'] = row['id']\n",
    "    subs_test_with_hosts = pd.concat([subs_test_with_hosts, row])\n",
    "    \n",
    "subs_test_with_hosts.sort_values(by=['id'])\n",
    "subs_test_with_hosts.head(40)"
   ]
  },
  {
   "cell_type": "code",
   "execution_count": null,
   "metadata": {},
   "outputs": [],
   "source": [
    "g = sns.FacetGrid(subs_test_with_hosts, col=\"pid\", col_wrap=8, height=2, sharex=False, sharey=False, palette=\"viridis\", hue=\"mvir\")\n",
    "g.map(sns.scatterplot, \"x\", \"y\")\n",
    "g.map(sns.scatterplot, )"
   ]
  },
  {
   "cell_type": "code",
   "execution_count": null,
   "metadata": {},
   "outputs": [],
   "source": []
  },
  {
   "cell_type": "markdown",
   "metadata": {},
   "source": [
    "<h2>Ellipticity calculations</h2>"
   ]
  },
  {
   "cell_type": "code",
   "execution_count": null,
   "metadata": {},
   "outputs": [],
   "source": [
    "data = subs.groupby(['pid']).filter(lambda x: len(x) > 2)"
   ]
  },
  {
   "cell_type": "code",
   "execution_count": null,
   "metadata": {},
   "outputs": [],
   "source": [
    "parent_ids = data['pid'].unique()\n",
    "ellipticity_df = pd.DataFrame({'pid': parent_ids}, columns=['pid', 'Q_xx', 'Q_yy', 'Q_xy'])"
   ]
  },
  {
   "cell_type": "markdown",
   "metadata": {},
   "source": [
    "<h4>Quadrupole moments</h4>"
   ]
  },
  {
   "cell_type": "code",
   "execution_count": null,
   "metadata": {},
   "outputs": [],
   "source": [
    "##################### TO DO: CHECK PRECISION OF SQUARES ####################\n",
    "for parent_id in parent_ids:\n",
    "    satellite_data = data[data['pid'] == parent_id].copy()\n",
    "    parent_data = df[df['id'] == parent_id]\n",
    "    \n",
    "    if parent_data.size != 0:\n",
    "        # calculate x_i - x_c\n",
    "        satellite_data['x_diff'] = satellite_data['x'].subtract(parent_data['x'].loc[parent_data.index[0]])\n",
    "        satellite_data['y_diff'] = satellite_data['y'].subtract(parent_data['y'].loc[parent_data.index[0]])\n",
    "        \n",
    "        # square \n",
    "        satellite_data['x_diff_sq'] = satellite_data['x_diff']**2\n",
    "        satellite_data['y_diff_sq'] = satellite_data['y_diff']**2\n",
    "        satellite_data['x_diff_y_diff'] = satellite_data['y_diff']*satellite_data['x_diff']\n",
    "        \n",
    "        ellipticity_df.loc[ellipticity_df.pid == parent_id, 'Q_xx'] = satellite_data['x_diff_sq'].mean()\n",
    "        ellipticity_df.loc[ellipticity_df.pid == parent_id, 'Q_yy'] = satellite_data['y_diff_sq'].mean()\n",
    "        ellipticity_df.loc[ellipticity_df.pid == parent_id, 'Q_xy'] = satellite_data['x_diff_y_diff'].mean()\n",
    "    else:\n",
    "        print(\"No parent data for parent_id: {}\".format(parent_id))"
   ]
  },
  {
   "cell_type": "markdown",
   "metadata": {},
   "source": [
    "<h4>Ellipticity components</h4>"
   ]
  },
  {
   "cell_type": "code",
   "execution_count": null,
   "metadata": {},
   "outputs": [],
   "source": [
    "def e_1 (Q_xx, Q_yy, Q_xy):\n",
    "    return (( Q_xx - Q_yy )/(Q_xx + Q_yy + 2*(Q_xx*Q_yy-Q_xy**2)**(1/2)))\n",
    "def e_2 (Q_xx, Q_yy, Q_xy):\n",
    "    return (2*Q_xy/(Q_xx + Q_yy + 2*(Q_xx*Q_yy-Q_xy**2)**(1/2)))\n",
    "def e_3 (e_1, e_2):\n",
    "    return ( e_1**2 + e_2**2 )**(1/2)\n",
    "\n",
    "\n",
    "ellipticity_df['e_1'] = e_1(ellipticity_df['Q_xx'], ellipticity_df['Q_yy'], ellipticity_df['Q_xy'])\n",
    "ellipticity_df['e_2'] = e_2(ellipticity_df['Q_xx'], ellipticity_df['Q_yy'], ellipticity_df['Q_xy'])\n",
    "ellipticity_df['e_3'] = e_3(ellipticity_df['e_1'], ellipticity_df['e_2'])\n",
    "\n",
    "ellipticity_df"
   ]
  },
  {
   "cell_type": "code",
   "execution_count": null,
   "metadata": {},
   "outputs": [],
   "source": [
    "sns.histplot(ellipticity_df[\"e_3\"], bins=8)"
   ]
  },
  {
   "cell_type": "code",
   "execution_count": null,
   "metadata": {},
   "outputs": [],
   "source": [
    "# check about the high ellipticity bois\n",
    "high_ellipticity_halo_ids = ellipticity_df[ellipticity_df['e_3'] >= 0.9]['pid'].unique()\n",
    "high_ellipticity_data = data[data['pid'].isin(high_ellipticity_halo_ids)]\n",
    "\n",
    "high_ellipticity_halos = high_ellipticity_data.groupby(['pid'])['id'].count()\n",
    "average_count_high_ellipticity = high_ellipticity_halos.mean()\n",
    "print(\"Average number of satellites per halo for the high-eccentricity data: {}\".format(average_count_high_ellipticity))\n",
    "\n",
    "all_halos = data.groupby(['pid'])['id'].count()\n",
    "average_count_all = all_halos.mean()\n",
    "print(\"Average number of satellites per halo for entire data set: {}\".format(average_count_all))\n"
   ]
  },
  {
   "cell_type": "code",
   "execution_count": null,
   "metadata": {},
   "outputs": [],
   "source": []
  }
 ],
 "metadata": {
  "kernelspec": {
   "display_name": "Python 3.10.4 64-bit",
   "language": "python",
   "name": "python3"
  },
  "language_info": {
   "codemirror_mode": {
    "name": "ipython",
    "version": 3
   },
   "file_extension": ".py",
   "mimetype": "text/x-python",
   "name": "python",
   "nbconvert_exporter": "python",
   "pygments_lexer": "ipython3",
   "version": "3.10.6 (main, Nov 14 2022, 16:10:14) [GCC 11.3.0]"
  },
  "orig_nbformat": 4,
  "vscode": {
   "interpreter": {
    "hash": "916dbcbb3f70747c44a77c7bcd40155683ae19c65e1c03b4aa3499c5328201f1"
   }
  }
 },
 "nbformat": 4,
 "nbformat_minor": 2
}
