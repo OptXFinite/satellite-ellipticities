{
 "cells": [
  {
   "cell_type": "code",
   "execution_count": null,
   "metadata": {},
   "outputs": [],
   "source": [
    "import numpy as np\n",
    "import pandas as pd\n",
    "import matplotlib.pyplot as plt\n",
    "import seaborn as sns\n",
    "import os\n",
    "from astropy import units as u\n",
    "from astropy.coordinates import SkyCoord\n",
    "import SAGA\n",
    "from SAGA import ObjectCuts as C\n",
    "from dotenv import load_dotenv\n",
    "import matplotlib.colors as mcolors\n",
    "\n",
    "load_dotenv()"
   ]
  },
  {
   "cell_type": "code",
   "execution_count": null,
   "metadata": {},
   "outputs": [],
   "source": [
    "saga_dir = os.getenv('SAGA_DIR')\n",
    "saga_db = os.getenv('SAGA_DB')\n",
    "\n",
    "print(saga_db)"
   ]
  },
  {
   "cell_type": "code",
   "execution_count": null,
   "metadata": {},
   "outputs": [],
   "source": [
    "# Load SAGA database\n",
    "saga = SAGA.QuickStart(local_dir=saga_dir)\n",
    " \n",
    "saga.database[\"combined_base\"].remote.path = saga_db\n",
    "saga.database[\"combined_base\"].download(overwrite=True)"
   ]
  },
  {
   "cell_type": "code",
   "execution_count": null,
   "metadata": {},
   "outputs": [],
   "source": [
    "# Load catalogs\n",
    "base = saga.object_catalog.load_combined_base_catalog()\n",
    "base = saga.host_catalog.construct_host_query(\"paper3\").filter(base)\n",
    "\n",
    "sats = C.is_sat.filter(base)\n",
    "hosts = C.is_host.filter(base)\n",
    "\n",
    "df = pd.DataFrame(dict(sats))\n",
    "print(list(df.columns))\n",
    "host_df = pd.DataFrame(dict(hosts)) \n",
    "host_df[['HOSTID','SGA_ID','radius']].sort_values('HOSTID')\n",
    "\n",
    "\n",
    "# returns the distance in Mpc corresponding to cosmological redshift z and a given value of h (defaults to cosmosim 0.6777)\n",
    "def get_d_from_z(z, h = 0.6777):\n",
    "    H_0 = 100*h # Hubble constant in km/s/Mpc\n",
    "    return z*299792/H_0 # speed of light in km/s\n",
    "\n",
    "host_df['distance'] = get_d_from_z(host_df['HOST_ZCOSMO'])\n",
    "host_df['HOST_RVIR_ANGULAR_DEG'] = 0.3/host_df['distance']*360/(2*np.pi) # using the small-angle approximation and 300 kpc (0.3 Mpc) rvir assumption "
   ]
  },
  {
   "cell_type": "code",
   "execution_count": null,
   "metadata": {},
   "outputs": [],
   "source": [
    "host_list = df[\"HOSTID\"].unique()"
   ]
  },
  {
   "cell_type": "code",
   "execution_count": null,
   "metadata": {},
   "outputs": [],
   "source": [
    "custom_style = {\n",
    "    \"figure.facecolor\": \"#000000\",\n",
    "    \"axes.facecolor\": \"#000000\",\n",
    "    \"savefig.facecolor\": \"#000000\", \n",
    "    \"grid.color\": \"#000000\",\n",
    "    # \"grid.color\": \"#ffe599\",\n",
    "    # \"grid.alpha\": 0.1,\n",
    "    \"text.color\": \"#ffe599\",\n",
    "    \"axes.labelcolor\": \"#ffe599\",\n",
    "    \"xtick.color\": \"#ffe599\",\n",
    "    \"ytick.color\": \"#ffe599\",\n",
    "    \"grid.linestyle\": \"-\",\n",
    "    \"lines.solid_capstyle\": \"round\"\n",
    "}\n",
    "\n",
    "sns.set_style(\"ticks\", custom_style)"
   ]
  },
  {
   "cell_type": "code",
   "execution_count": null,
   "metadata": {},
   "outputs": [],
   "source": [
    "# Plot of all satellites, color-grouped by host\n",
    "g = sns.relplot(x=\"RA\", y=\"DEC\", hue=\"HOSTID\", palette=\"viridis\", data=df, facet_kws=dict(legend_out=False))\n",
    "g._legend.remove()"
   ]
  },
  {
   "cell_type": "code",
   "execution_count": null,
   "metadata": {},
   "outputs": [],
   "source": [
    "df['LAT_ROTATED'] = SkyCoord(ra=df.RA*u.degree, dec=df.DEC*u.degree, frame='icrs').transform_to(SkyCoord(ra=df.HOST_RA*u.degree, dec=df.HOST_DEC*u.degree, frame='icrs').skyoffset_frame()).lat.deg\n",
    "df['LON_ROTATED'] = SkyCoord(ra=df.RA*u.degree, dec=df.DEC*u.degree, frame='icrs').transform_to(SkyCoord(ra=df.HOST_RA*u.degree, dec=df.HOST_DEC*u.degree, frame='icrs').skyoffset_frame()).lon.deg\n",
    "\n",
    "# acutally ra and dec\n",
    "df['HOST_LAT_ROTATED'] = SkyCoord(ra=df.HOST_RA*u.degree, dec=df.HOST_DEC*u.degree, frame='icrs').transform_to(SkyCoord(ra=df.HOST_RA*u.degree, dec=df.HOST_DEC*u.degree, frame='icrs').skyoffset_frame()).lat.deg\n",
    "df['HOST_LON_ROTATED'] = SkyCoord(ra=df.HOST_RA*u.degree, dec=df.HOST_DEC*u.degree, frame='icrs').transform_to(SkyCoord(ra=df.HOST_RA*u.degree, dec=df.HOST_DEC*u.degree, frame='icrs').skyoffset_frame()).lon.deg"
   ]
  },
  {
   "cell_type": "code",
   "execution_count": null,
   "metadata": {},
   "outputs": [],
   "source": [
    "host_ids = ['pgc66566', 'nsa16235','nsa135739']\n",
    "common_names = ['NGC 7051', 'UGC 04906','NGC 2778']\n",
    "prominences = [212.765957, 500.000000, 588.235294]\n",
    "just3hosts_df = df[df.HOSTID.isin(host_ids)]\n",
    "\n",
    "\n",
    "host_ids_2 = ['pgc66566', 'nsa16235','nsa135739', 'nsa129237', 'nsa133115', 'pgc53630']\n",
    "common_names_2 = ['NGC 7051', 'UGC 04906','NGC 2778', 'UGC 00903', 'NGC 1199', 'NGC 5812']\n",
    "prominences_2 = [212.765957, 500.000000, 588.235294, 1.085658, 1.974334, 8.741259]\n",
    "just3hosts_df_2 = df[df.HOSTID.isin(host_ids_2)]"
   ]
  },
  {
   "cell_type": "code",
   "execution_count": null,
   "metadata": {},
   "outputs": [],
   "source": [
    "for host in host_ids:\n",
    "    host_rmag = host_df[host_df['HOSTID'] == host].head(1)[['r_mag']].values[0][0]\n",
    "    host_radius = host_df[host_df['HOSTID'] == host].head(1)[['radius']].values[0][0]\n",
    "    HOST_RVIR_ANGULAR_DEG = host_df[host_df['HOSTID'] == host].head(1)[['HOST_RVIR_ANGULAR_DEG']].values[0][0]\n",
    "\n",
    "    just3hosts_df.loc[host] = np.zeros(len(just3hosts_df.columns))\n",
    "    just3hosts_df.loc[[host],['r_mag']] = host_rmag\n",
    "    just3hosts_df.loc[[host],['radius']] = host_radius\n",
    "    just3hosts_df.loc[[host],['HOST_RVIR_ANGULAR_DEG']] = HOST_RVIR_ANGULAR_DEG\n",
    "    just3hosts_df.loc[[host],['HOSTID']] = host"
   ]
  },
  {
   "cell_type": "code",
   "execution_count": null,
   "metadata": {},
   "outputs": [],
   "source": [
    "for host in host_ids_2:\n",
    "    host_rmag = host_df[host_df['HOSTID'] == host].head(1)[['r_mag']].values[0][0]\n",
    "    host_radius = host_df[host_df['HOSTID'] == host].head(1)[['radius']].values[0][0]\n",
    "    HOST_RVIR_ANGULAR_DEG = host_df[host_df['HOSTID'] == host].head(1)[['HOST_RVIR_ANGULAR_DEG']].values[0][0]\n",
    "\n",
    "    just3hosts_df_2.loc[host] = np.zeros(len(just3hosts_df_2.columns))\n",
    "    just3hosts_df_2.loc[[host],['r_mag']] = host_rmag\n",
    "    just3hosts_df_2.loc[[host],['radius']] = host_radius\n",
    "    just3hosts_df_2.loc[[host],['HOST_RVIR_ANGULAR_DEG']] = HOST_RVIR_ANGULAR_DEG\n",
    "    just3hosts_df_2.loc[[host],['HOSTID']] = host"
   ]
  },
  {
   "cell_type": "code",
   "execution_count": null,
   "metadata": {},
   "outputs": [],
   "source": [
    "# Rotated RA/DEC plots (host @ 0,0), including host points\n",
    "pgc66566_df = just3hosts_df[just3hosts_df['HOSTID'] == host_ids[0]]\n",
    "nsa16235_df = just3hosts_df[just3hosts_df['HOSTID'] == host_ids[1]]\n",
    "nsa135739_df = just3hosts_df[just3hosts_df['HOSTID'] == host_ids[2]]\n",
    "dfs = [pgc66566_df, nsa16235_df, nsa135739_df]\n",
    "virial_radii = [0.52, 0.51, 0.56] # GET THESE FROM DATAFRAME - NEED TO CONVERT TO DEGREES\n",
    "\n",
    "fig, axs = plt.subplots(ncols=3, sharey=True, sharex=True)\n",
    "fig.set_size_inches(11, 3, forward=True)\n",
    "\n",
    "for i, ax in enumerate(axs):\n",
    "    radius = just3hosts_df.loc[[host_ids[i]],['HOST_RVIR_ANGULAR_DEG']].values[0][0]\n",
    "    ax.add_patch(plt.Circle(xy=(0, 0), radius=radius, color='gray', fill=False, linewidth=2, linestyle='--'))\n",
    "\n",
    "    sp = ax.scatter(dfs[i].LON_ROTATED, dfs[i].LAT_ROTATED, c=dfs[i].r_mag, s=65, linewidth=0.7, edgecolor='white', cmap=plt.cm.get_cmap('viridis').reversed())\n",
    "    \n",
    "    if i == 0: ax.set_ylabel('Dec (deg)', fontsize=12)\n",
    "    if i == 1: ax.set_xlabel('RA (deg)', fontsize=12)\n",
    "    ax.set_xlim(-0.6, 0.6)\n",
    "    ax.set_ylim(-0.6, 0.6)\n",
    "    ax.set_title(common_names[i]+\" ($\\mathcal{P}_e$: \"+str(round(prominences[i]))+')')\n",
    "\n",
    "cbar = fig.colorbar(sp, ax=axs.ravel().tolist(), shrink=0.85)\n",
    "cbar.ax.set_title('$m_r$')\n",
    "\n",
    "plt.subplots_adjust(wspace=0, hspace=0, left=0.1, right=0.75)\n",
    "fig.savefig('figures/SpatialPlots.png', dpi=1000)"
   ]
  },
  {
   "cell_type": "code",
   "execution_count": null,
   "metadata": {},
   "outputs": [],
   "source": [
    "# Rotated RA/DEC plots (host @ 0,0), including host points\n",
    "dfs = []\n",
    "virial_radii = []\n",
    "\n",
    "for host in host_ids_2:\n",
    "    df = just3hosts_df_2[just3hosts_df_2['HOSTID'] == host].copy()\n",
    "    dfs.append(df)\n",
    "    virial_radius = df.loc[host].HOST_RVIR_ANGULAR_DEG\n",
    "    virial_radii.append(virial_radius)\n",
    "\n",
    "\n",
    "fig, axs = plt.subplots(ncols=3, nrows=2, sharey=True, sharex=True)\n",
    "fig.set_size_inches(11, 6, forward=True)\n",
    "\n",
    "for j, axis_row in enumerate(axs):\n",
    "    for i, ax in enumerate(axis_row):\n",
    "        if j == 1: i += 3\n",
    "        radius = just3hosts_df_2.loc[[host_ids_2[i]],['HOST_RVIR_ANGULAR_DEG']].values[0][0]\n",
    "        ax.add_patch(plt.Circle(xy=(0, 0), radius=radius, color='gray', fill=False, linewidth=2, linestyle='--'))\n",
    "\n",
    "        sp = ax.scatter(dfs[i].LON_ROTATED, dfs[i].LAT_ROTATED, c=dfs[i].r_mag, s=65, linewidth=0.7, edgecolor='white', cmap=plt.cm.get_cmap('viridis').reversed())\n",
    "        \n",
    "        if (j == 0 and i == 0): ax.set_ylabel('$\\Delta$ Dec (deg)', fontsize=12)\n",
    "        if i == 4: ax.set_xlabel('$\\Delta$ RA (deg)', fontsize=12)\n",
    "        ax.set_xlim(-0.65, 0.65)\n",
    "        ax.set_ylim(-0.65, 0.65)\n",
    "        ax.set_title(common_names_2[i]+\" ($\\mathcal{P}_e$: \"+str(round(prominences_2[i],1))+')')\n",
    "\n",
    "cbar = fig.colorbar(sp, ax=axs.ravel().tolist(), shrink=0.85)\n",
    "cbar.ax.set_title('$m_r$')\n",
    "\n",
    "plt.subplots_adjust(wspace=0, hspace=0.05, left=0.1, right=0.75)\n",
    "fig.savefig('figures/SpatialPlots.png', dpi=1000)"
   ]
  },
  {
   "cell_type": "code",
   "execution_count": null,
   "metadata": {},
   "outputs": [],
   "source": [
    "pgc66566_df = just3hosts_df[just3hosts_df['HOSTID'] == host_ids[0]]\n",
    "nsa16235_df = just3hosts_df[just3hosts_df['HOSTID'] == host_ids[1]]\n",
    "nsa135739_df = just3hosts_df[just3hosts_df['HOSTID'] == host_ids[2]]\n",
    "prominences = [212.765957, 500.000000, 588.235294]\n",
    "dfs = [pgc66566_df, nsa16235_df, nsa135739_df]\n",
    "virial_radii = [0.52, 0.51, 0.56] # GET THESE FROM DATAFRAME - NEED TO CONVERT TO DEGREES\n",
    "\n",
    "fig, axs = plt.subplots(ncols=3, sharey=True, sharex=True)\n",
    "fig.set_size_inches(11, 3, forward=True)\n",
    "\n",
    "for i, ax in enumerate(axs):\n",
    "    radius = just3hosts_df.loc[[host_ids[i]],['HOST_RVIR_ANGULAR_DEG']].values[0][0]\n",
    "    ax.add_patch(plt.Circle(xy=(0, 0), radius=radius, color='gray', fill=False, linewidth=2, linestyle='--'))\n",
    "\n",
    "    sp = ax.scatter(dfs[i].LON_ROTATED, dfs[i].LAT_ROTATED, c=dfs[i].r_mag, s=65, linewidth=0.7, edgecolor='white', cmap=plt.cm.get_cmap('viridis').reversed())\n",
    "    \n",
    "    # ax.set_aspect('equal')\n",
    "    if i == 0: ax.set_ylabel('Latitude (deg)', fontsize=12)\n",
    "    if i == 1: ax.set_xlabel('Longitude (deg)', fontsize=12)\n",
    "    ax.set_xlim(-0.6, 0.6)\n",
    "    ax.set_ylim(-0.6, 0.6)\n",
    "    ax.set_title(common_names[i]+\" ($\\mathcal{P}_e$: \"+str(round(prominences[i]))+')')\n",
    "\n",
    "cbar = fig.colorbar(sp, ax=axs.ravel().tolist(), shrink=0.85)\n",
    "cbar.ax.set_title('$m_r$')\n",
    "\n",
    "plt.subplots_adjust(wspace=0, hspace=0, left=0.1, right=0.75)\n",
    "fig.savefig('figures/SpatialPlots.png', dpi=1000)"
   ]
  },
  {
   "attachments": {},
   "cell_type": "markdown",
   "metadata": {},
   "source": [
    "<h4>Testing rotation accuracy</h4>\n",
    "Ensure that diff(Host RA,0) and diff(Host DEC,0) are no greater than inherent error due to float calculations "
   ]
  },
  {
   "cell_type": "code",
   "execution_count": null,
   "metadata": {},
   "outputs": [],
   "source": [
    "df[(df[\"HOST_LON_ROTATED\"] != 0) | (df[\"HOST_LAT_ROTATED\"] != 0)]"
   ]
  },
  {
   "cell_type": "code",
   "execution_count": null,
   "metadata": {},
   "outputs": [],
   "source": [
    "# Check to see if host position after rotation is non-zero (above float calc error)\n",
    "lon_err_max = df[df[\"HOST_LON_ROTATED\"] != 0].HOST_LON_ROTATED.max()\n",
    "lon_err_min = df[df[\"HOST_LON_ROTATED\"] != 0].HOST_LON_ROTATED.min()\n",
    "lat_err_max = df[df[\"HOST_LAT_ROTATED\"] != 0].HOST_LAT_ROTATED.max()\n",
    "lat_err_min = df[df[\"HOST_LAT_ROTATED\"] != 0].HOST_LAT_ROTATED.min()\n",
    "print(\"Error: lat min - {}, \\t lat max - {}, \\t lon min - {}, \\t lon max - {}\".format(lat_err_min, lat_err_max, lon_err_min, lon_err_max))"
   ]
  },
  {
   "cell_type": "code",
   "execution_count": null,
   "metadata": {},
   "outputs": [],
   "source": [
    "# just to get plot limits\n",
    "lon_max = df[df[\"LON_ROTATED\"] != 0].LON_ROTATED.max()\n",
    "lon_min = df[df[\"LON_ROTATED\"] != 0].LON_ROTATED.min()\n",
    "lat_max = df[df[\"LAT_ROTATED\"] != 0].LAT_ROTATED.max()\n",
    "lat_min = df[df[\"LAT_ROTATED\"] != 0].LAT_ROTATED.min()\n",
    "print(\"lat min - {}, \\t lat max - {}, \\t lon min - {}, \\t lon max - {}\".format(lat_min, lat_max, lon_min, lon_max))"
   ]
  }
 ],
 "metadata": {
  "kernelspec": {
   "display_name": "Python 3.10.4 64-bit",
   "language": "python",
   "name": "python3"
  },
  "language_info": {
   "codemirror_mode": {
    "name": "ipython",
    "version": 3
   },
   "file_extension": ".py",
   "mimetype": "text/x-python",
   "name": "python",
   "nbconvert_exporter": "python",
   "pygments_lexer": "ipython3",
   "version": "3.9.16"
  },
  "orig_nbformat": 4,
  "vscode": {
   "interpreter": {
    "hash": "916dbcbb3f70747c44a77c7bcd40155683ae19c65e1c03b4aa3499c5328201f1"
   }
  }
 },
 "nbformat": 4,
 "nbformat_minor": 2
}
