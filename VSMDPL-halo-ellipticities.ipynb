{
 "cells": [
  {
   "cell_type": "code",
   "execution_count": null,
   "metadata": {},
   "outputs": [],
   "source": [
    "import pandas as pd\n",
    "import seaborn as sns\n",
    "import numpy as np\n",
    "from easyquery import Query"
   ]
  },
  {
   "cell_type": "code",
   "execution_count": null,
   "metadata": {},
   "outputs": [],
   "source": [
    "VSDMPL_DATA = \"\" # path to parquet"
   ]
  },
  {
   "cell_type": "code",
   "execution_count": null,
   "metadata": {},
   "outputs": [],
   "source": [
    "hosts_and_sats = pd.read_parquet(VSDMPL_DATA)\n",
    "hosts_and_sats['num_satellites'] = hosts_and_sats.groupby('upid')['upid'].transform('count')\n",
    "hosts_and_sats[hosts_and_sats['upid']==12507653347]"
   ]
  },
  {
   "cell_type": "markdown",
   "metadata": {},
   "source": [
    "<h2>Add corrected positions</h2>\n",
    "\n",
    "- if x - x_host > box_length/2, shift by -box_length\n",
    "\n",
    "- if x - x_host < -box_length/2 shift by +box_length"
   ]
  },
  {
   "cell_type": "markdown",
   "metadata": {},
   "source": [
    "<h4>Add host x, y, z</h4>"
   ]
  },
  {
   "cell_type": "code",
   "execution_count": null,
   "metadata": {},
   "outputs": [],
   "source": [
    "hosts, sats = Query(\"upid == -1\").split(hosts_and_sats)\n",
    "sats = pd.merge(sats, hosts, how=\"left\", left_on=\"upid\", right_on=\"id\", suffixes=(\"\", \"_host\")).sort_values(by='upid')\n",
    "sats"
   ]
  },
  {
   "cell_type": "markdown",
   "metadata": {},
   "source": [
    "<h4>Add adjusted positions x_adj, y_adj, z_adj</h4>"
   ]
  },
  {
   "cell_type": "code",
   "execution_count": null,
   "metadata": {},
   "outputs": [],
   "source": [
    "box_len = 160\n",
    "sats['x_adj'] = sats['x']\n",
    "sats.loc[sats['x'] - sats['x_host'] > box_len/2, 'x_adj'] = sats['x'] - 160\n",
    "sats.loc[sats['x'] - sats['x_host'] < -box_len/2, 'x_adj'] = sats['x'] + 160\n",
    "\n",
    "sats['y_adj'] = sats['y']\n",
    "sats.loc[sats['y'] - sats['y_host'] > box_len/2, 'y_adj'] = sats['y'] - 160\n",
    "sats.loc[sats['y'] - sats['y_host'] < -box_len/2, 'y_adj'] = sats['y'] + 160\n",
    "\n",
    "\n",
    "sats['z_adj'] = sats['z']\n",
    "sats.loc[sats['z'] - sats['z_host'] > box_len/2, 'z_adj'] = sats['z'] - 160\n",
    "sats.loc[sats['z'] - sats['z_host'] < -box_len/2, 'z_adj'] = sats['z'] + 160"
   ]
  },
  {
   "cell_type": "markdown",
   "metadata": {},
   "source": [
    "<h2>Make cuts to get SAGA-like data</h2>\n",
    "<h4>Current cuts</h4>\n",
    "\n",
    "- vmax_mpeak >= 45 (following vmax_mpeak vs # satellites & using saga # satellites average)\n",
    "\n",
    "- 3 or more satellites\n",
    "\n",
    "<h4>Unused cuts</h4>\n",
    "\n",
    "- mvir >= 1e10"
   ]
  },
  {
   "cell_type": "code",
   "execution_count": null,
   "metadata": {},
   "outputs": [],
   "source": [
    "# Filter by most massive\n",
    "# sats = df[df['mvir'] >= 1e10]\n",
    "\n",
    "# Use vmax_mpeak as proxy for luminosity\n",
    "sats_cut = sats[sats['vmax_mpeak'] >= 52.77]\n",
    "\n",
    "# Select only satellite systems with 3 or more members\n",
    "sats_cut = sats_cut.groupby(['upid']).filter(lambda x: len(x) > 2)\n",
    "sats_cut"
   ]
  },
  {
   "cell_type": "code",
   "execution_count": null,
   "metadata": {},
   "outputs": [],
   "source": [
    "average_num_sats = len(sats_cut)/len(sats_cut['upid'].unique())\n",
    "average_num_sats"
   ]
  },
  {
   "cell_type": "code",
   "execution_count": null,
   "metadata": {},
   "outputs": [],
   "source": []
  },
  {
   "cell_type": "code",
   "execution_count": null,
   "metadata": {},
   "outputs": [],
   "source": [
    "test_sats_cut = sats_cut.copy()\n",
    "test_sats_cut['test_column'] = test_sats_cut[test_sats_cut['vmax_mpeak'] >= 50].groupby('upid')['upid'].transform('count')\n",
    "test_sats_cut\n",
    "average = test_sats_cut[test_sats_cut['test_column'] > 2]['test_column']\n",
    "average"
   ]
  },
  {
   "cell_type": "code",
   "execution_count": null,
   "metadata": {},
   "outputs": [],
   "source": []
  },
  {
   "cell_type": "markdown",
   "metadata": {},
   "source": [
    "<h2>Ellipticity calculations</h2>"
   ]
  },
  {
   "cell_type": "code",
   "execution_count": null,
   "metadata": {},
   "outputs": [],
   "source": [
    "data = sats_cut"
   ]
  },
  {
   "cell_type": "markdown",
   "metadata": {},
   "source": [
    "<h4>Quadrupole moments</h4>"
   ]
  },
  {
   "cell_type": "code",
   "execution_count": null,
   "metadata": {},
   "outputs": [],
   "source": [
    "ellipticity_df = data.copy()\n",
    "ellipticity_df['x_diff_sq'] = (ellipticity_df['x_adj'] - ellipticity_df['x_host'])**2\n",
    "ellipticity_df['y_diff_sq'] = (ellipticity_df['y_adj'] - ellipticity_df['y_host'])**2\n",
    "ellipticity_df['x_diff_y_diff'] = (ellipticity_df['y_adj'] - ellipticity_df['y_host'])*(ellipticity_df['x_adj'] - ellipticity_df['x_host'])\n",
    "ellipticity_df = ellipticity_df.groupby('upid', as_index = False)['x_diff_sq', 'y_diff_sq', 'x_diff_y_diff'].mean().rename(columns={'x_diff_sq':'Q_xx', 'y_diff_sq':'Q_yy', 'x_diff_y_diff':'Q_xy'})\n",
    "ellipticity_df"
   ]
  },
  {
   "cell_type": "markdown",
   "metadata": {},
   "source": [
    "\n",
    "<h4>Ellipticity components</h4>"
   ]
  },
  {
   "cell_type": "code",
   "execution_count": null,
   "metadata": {},
   "outputs": [],
   "source": [
    "def e_1 (Q_xx, Q_yy, Q_xy):\n",
    "    return (( Q_xx - Q_yy )/(Q_xx + Q_yy + 2*(Q_xx*Q_yy-Q_xy**2)**(1/2)))\n",
    "def e_2 (Q_xx, Q_yy, Q_xy):\n",
    "    return (2*Q_xy/(Q_xx + Q_yy + 2*(Q_xx*Q_yy-Q_xy**2)**(1/2)))\n",
    "def e_3 (e_1, e_2):\n",
    "    return ( e_1**2 + e_2**2 )**(1/2)\n",
    "\n",
    "\n",
    "ellipticity_df['e_1'] = e_1(ellipticity_df['Q_xx'], ellipticity_df['Q_yy'], ellipticity_df['Q_xy'])\n",
    "ellipticity_df['e_2'] = e_2(ellipticity_df['Q_xx'], ellipticity_df['Q_yy'], ellipticity_df['Q_xy'])\n",
    "ellipticity_df['e_3'] = e_3(ellipticity_df['e_1'], ellipticity_df['e_2'])"
   ]
  },
  {
   "cell_type": "code",
   "execution_count": null,
   "metadata": {},
   "outputs": [],
   "source": [
    "# sns.set(style=\"darkgrid\", palette=\"viridis\")\n",
    "custom_style = {\n",
    "    \"figure.facecolor\": \"212946\",\n",
    "    \"axes.facecolor\": \"212946\",\n",
    "    \"savefig.facecolor\": \"212946\", \n",
    "    \"grid.color\": \"2A3459\",\n",
    "    \"text.color\": \"0.9\",\n",
    "    \"axes.labelcolor\": \"0.9\",\n",
    "    \"xtick.color\": \"0.9\",\n",
    "    \"ytick.color\": \"0.9\",\n",
    "    \"font.family\": \"Bitstream Vera Sans\",\n",
    "    \"grid.linestyle\": \"-\",\n",
    "    \"lines.solid_capstyle\": \"round\"\n",
    "}\n",
    "\n",
    "sns.set_style(\"darkgrid\", custom_style)"
   ]
  },
  {
   "cell_type": "code",
   "execution_count": null,
   "metadata": {},
   "outputs": [],
   "source": [
    "sns.histplot(ellipticity_df[\"e_3\"], bins=7, element='poly', stat=\"density\", fill=False)"
   ]
  },
  {
   "cell_type": "code",
   "execution_count": null,
   "metadata": {},
   "outputs": [],
   "source": [
    "# check about the high ellipticity bois\n",
    "high_ellipticity_halo_ids = ellipticity_df[ellipticity_df['e_3'] >= 0.9]['upid'].unique()\n",
    "high_ellipticity_data = data[data['upid'].isin(high_ellipticity_halo_ids)]\n",
    "\n",
    "high_ellipticity_halos = high_ellipticity_data.groupby(['upid'])['id'].count()\n",
    "average_count_high_ellipticity = high_ellipticity_halos.mean()\n",
    "print(\"Average number of satellites per halo for the high-eccentricity data: {}\".format(average_count_high_ellipticity))\n",
    "\n",
    "all_halos = data.groupby(['upid'])['id'].count()\n",
    "average_count_all = all_halos.mean()\n",
    "print(\"Average number of satellites per halo for entire data set: {}\".format(average_count_all))\n"
   ]
  },
  {
   "cell_type": "code",
   "execution_count": null,
   "metadata": {},
   "outputs": [],
   "source": []
  },
  {
   "cell_type": "markdown",
   "metadata": {},
   "source": [
    "<h4>Store ellipticity DataFrame to use in other nbs</h4>"
   ]
  },
  {
   "cell_type": "code",
   "execution_count": null,
   "metadata": {},
   "outputs": [],
   "source": [
    "ellipticity_df_VSMDPL = ellipticity_df\n",
    "%store ellipticity_df_VSMDPL"
   ]
  },
  {
   "cell_type": "code",
   "execution_count": null,
   "metadata": {},
   "outputs": [],
   "source": [
    "display(ellipticity_df)"
   ]
  },
  {
   "cell_type": "code",
   "execution_count": null,
   "metadata": {},
   "outputs": [],
   "source": []
  },
  {
   "cell_type": "markdown",
   "metadata": {},
   "source": [
    "<h2>Highest luminosity analysis</h2>"
   ]
  },
  {
   "cell_type": "code",
   "execution_count": null,
   "metadata": {},
   "outputs": [],
   "source": [
    "highest_luminosity_sats = hosts_and_sats.groupby('upid', as_index = False)['Mr', 'num_satellites'].min()"
   ]
  },
  {
   "cell_type": "code",
   "execution_count": null,
   "metadata": {},
   "outputs": [],
   "source": [
    "highest_luminosity_ellipticity = pd.merge(highest_luminosity_sats, ellipticity_df, how=\"left\", left_on=\"upid\", right_on=\"upid\")[['upid', 'Mr', 'e_3']]"
   ]
  },
  {
   "cell_type": "code",
   "execution_count": null,
   "metadata": {},
   "outputs": [],
   "source": [
    "# get rid of hosts which were filtered out by \n",
    "highest_luminosity_ellipticity_VSMDPL = highest_luminosity_ellipticity[~highest_luminosity_ellipticity['e_3'].isna()]\n",
    "%store highest_luminosity_ellipticity_VSMDPL\n",
    "highest_luminosity_ellipticity_VSMDPL"
   ]
  },
  {
   "cell_type": "markdown",
   "metadata": {},
   "source": [
    "<h2>Concat highest luminosity w/ log(vmax_mpeak)</h2>"
   ]
  },
  {
   "cell_type": "code",
   "execution_count": null,
   "metadata": {},
   "outputs": [],
   "source": [
    "highest_vmax_sats = hosts_and_sats.groupby('upid', as_index = False)['vmax_mpeak'].max()"
   ]
  },
  {
   "cell_type": "code",
   "execution_count": null,
   "metadata": {},
   "outputs": [],
   "source": [
    "highest_vmax_ellipticity = pd.merge(highest_vmax_sats, ellipticity_df, how=\"left\", left_on=\"upid\", right_on=\"upid\")[['upid', 'vmax_mpeak', 'e_3']]\n",
    "highest_vmax_ellipticity"
   ]
  },
  {
   "cell_type": "code",
   "execution_count": null,
   "metadata": {},
   "outputs": [],
   "source": [
    "highest_vmax_ellipticity['log_vmax_mpeak'] = np.log(highest_vmax_ellipticity['vmax_mpeak'])"
   ]
  },
  {
   "cell_type": "code",
   "execution_count": null,
   "metadata": {},
   "outputs": [],
   "source": [
    "highest_vmax_ellipticity_VSMDPL = highest_vmax_ellipticity[~highest_vmax_ellipticity['e_3'].isna()]\n",
    "%store highest_vmax_ellipticity_VSMDPL\n",
    "highest_vmax_ellipticity_VSMDPL"
   ]
  },
  {
   "cell_type": "code",
   "execution_count": null,
   "metadata": {},
   "outputs": [],
   "source": [
    "import matplotlib.pyplot as plt"
   ]
  },
  {
   "cell_type": "code",
   "execution_count": null,
   "metadata": {},
   "outputs": [],
   "source": [
    "fig, ax1 = plt.subplots()\n",
    "ax1.set_xlabel('ellipticity (2D)')\n",
    "ax1.set_ylabel('log(vmax_mpeak)')\n",
    "sp1 = sns.scatterplot(data=highest_vmax_ellipticity_VSMDPL, x='e_3', y='log_vmax_mpeak', ax=ax1, s=2)"
   ]
  },
  {
   "cell_type": "code",
   "execution_count": null,
   "metadata": {},
   "outputs": [],
   "source": [
    "fig = sp1.figure.get_figure()\n",
    "fig.set_size_inches([6, 4])\n",
    "fig.savefig(\"SimVmax_mpeakVsEllipticity.png\",dpi=600)"
   ]
  },
  {
   "cell_type": "markdown",
   "metadata": {},
   "source": [
    "<h2>Average # satellites per vmax_mpeak</h2>"
   ]
  },
  {
   "cell_type": "code",
   "execution_count": null,
   "metadata": {},
   "outputs": [],
   "source": [
    "hosts_num_vmax = sats.groupby('upid').first()[['vmax_mpeak_host', 'num_satellites']]\n",
    "hosts_num_vmax"
   ]
  },
  {
   "cell_type": "markdown",
   "metadata": {},
   "source": [
    "Bin hosts by vmax_mpeak"
   ]
  },
  {
   "cell_type": "code",
   "execution_count": null,
   "metadata": {},
   "outputs": [],
   "source": [
    "hosts_num_vmax_averages = hosts_num_vmax.groupby(pd.cut(hosts_num_vmax['vmax_mpeak_host'], np.linspace(135, 340, 20))).mean()\n",
    "hosts_num_vmax_averages"
   ]
  },
  {
   "cell_type": "code",
   "execution_count": null,
   "metadata": {},
   "outputs": [],
   "source": [
    "fig2, ax2 = plt.subplots()\n",
    "ax2.set_xlabel('vmax_mpeak')\n",
    "ax2.set_ylabel('average # satellites')\n",
    "sp2 = sns.lineplot(hosts_num_vmax_averages['vmax_mpeak_host'], hosts_num_vmax_averages['num_satellites'], ax=ax2)"
   ]
  },
  {
   "cell_type": "code",
   "execution_count": null,
   "metadata": {},
   "outputs": [],
   "source": [
    "fig2 = sp2.figure.get_figure()\n",
    "fig2.set_size_inches([6, 4])\n",
    "fig2.savefig(\"NumSatsVsVmax_mpeak.png\",dpi=600)"
   ]
  },
  {
   "cell_type": "code",
   "execution_count": null,
   "metadata": {},
   "outputs": [],
   "source": []
  },
  {
   "cell_type": "code",
   "execution_count": null,
   "metadata": {},
   "outputs": [],
   "source": [
    "fig3, ax3 = plt.subplots()\n",
    "ax3.set_xlabel('vmax_mpeak')\n",
    "ax3.set_ylabel('# satellites')\n",
    "sp3 = sns.scatterplot(hosts_num_vmax['vmax_mpeak_host'], hosts_num_vmax['num_satellites'], ax=ax3, s=2)"
   ]
  },
  {
   "cell_type": "code",
   "execution_count": null,
   "metadata": {},
   "outputs": [],
   "source": [
    "import scipy as sp\n",
    "spearmanr_results = sp.stats.spearmanr(hosts_num_vmax['vmax_mpeak_host'], hosts_num_vmax['num_satellites'], axis=0, nan_policy='propagate', alternative='two-sided')\n",
    "spearmanr_results"
   ]
  },
  {
   "cell_type": "code",
   "execution_count": null,
   "metadata": {},
   "outputs": [],
   "source": [
    "fig3 = sp3.figure.get_figure()\n",
    "fig3.set_size_inches([6, 4])\n",
    "fig3.savefig(\"NumSatsVsVmax_mpeak_scatter.png\",dpi=600)"
   ]
  },
  {
   "cell_type": "code",
   "execution_count": null,
   "metadata": {},
   "outputs": [],
   "source": []
  },
  {
   "cell_type": "code",
   "execution_count": null,
   "metadata": {},
   "outputs": [],
   "source": []
  }
 ],
 "metadata": {
  "kernelspec": {
   "display_name": "Python 3.10.4 64-bit",
   "language": "python",
   "name": "python3"
  },
  "language_info": {
   "codemirror_mode": {
    "name": "ipython",
    "version": 3
   },
   "file_extension": ".py",
   "mimetype": "text/x-python",
   "name": "python",
   "nbconvert_exporter": "python",
   "pygments_lexer": "ipython3",
   "version": "3.10.6 (main, Nov 14 2022, 16:10:14) [GCC 11.3.0]"
  },
  "orig_nbformat": 4,
  "vscode": {
   "interpreter": {
    "hash": "916dbcbb3f70747c44a77c7bcd40155683ae19c65e1c03b4aa3499c5328201f1"
   }
  }
 },
 "nbformat": 4,
 "nbformat_minor": 2
}
