{
 "cells": [
  {
   "cell_type": "code",
   "execution_count": null,
   "metadata": {},
   "outputs": [],
   "source": [
    "import pandas as pd\n",
    "import seaborn as sns\n",
    "import numpy as np\n",
    "import os\n",
    "from easyquery import Query\n",
    "from dotenv import load_dotenv\n",
    "\n",
    "load_dotenv()"
   ]
  },
  {
   "cell_type": "code",
   "execution_count": null,
   "metadata": {},
   "outputs": [],
   "source": [
    "# Change the path to your sim data in your .env file \n",
    "VSMDPL_DATA = os.getenv('VSMDPL_DATA')"
   ]
  },
  {
   "cell_type": "code",
   "execution_count": null,
   "metadata": {},
   "outputs": [],
   "source": [
    "hosts_and_subs = pd.read_parquet(VSMDPL_DATA)\n",
    "hosts_and_subs['num_satellites'] = hosts_and_subs.groupby('upid')['upid'].transform('count')"
   ]
  },
  {
   "attachments": {},
   "cell_type": "markdown",
   "metadata": {},
   "source": [
    "<h2>Add corrected positions</h2>\n",
    "\n",
    "- if x - x_host > box_length/2, shift by -box_length\n",
    "\n",
    "- if x - x_host < -box_length/2 shift by +box_length"
   ]
  },
  {
   "attachments": {},
   "cell_type": "markdown",
   "metadata": {},
   "source": [
    "<h4>Add host x, y, z</h4>"
   ]
  },
  {
   "cell_type": "code",
   "execution_count": null,
   "metadata": {},
   "outputs": [],
   "source": [
    "hosts, subs = Query(\"upid == -1\").split(hosts_and_subs)\n",
    "subs = pd.merge(subs, hosts, how=\"left\", left_on=\"upid\", right_on=\"id\", suffixes=(\"\", \"_host\")).sort_values(by='upid')\n",
    "len(subs.upid.unique())"
   ]
  },
  {
   "attachments": {},
   "cell_type": "markdown",
   "metadata": {},
   "source": [
    "<h4>Add adjusted positions x_adj, y_adj, z_adj</h4>"
   ]
  },
  {
   "cell_type": "code",
   "execution_count": null,
   "metadata": {},
   "outputs": [],
   "source": [
    "box_len = 160\n",
    "subs['x_adj'] = subs['x']\n",
    "subs.loc[subs['x'] - subs['x_host'] > box_len/2, 'x_adj'] = subs['x'] - 160\n",
    "subs.loc[subs['x'] - subs['x_host'] < -box_len/2, 'x_adj'] = subs['x'] + 160\n",
    "\n",
    "subs['y_adj'] = subs['y']\n",
    "subs.loc[subs['y'] - subs['y_host'] > box_len/2, 'y_adj'] = subs['y'] - 160\n",
    "subs.loc[subs['y'] - subs['y_host'] < -box_len/2, 'y_adj'] = subs['y'] + 160\n",
    "\n",
    "\n",
    "subs['z_adj'] = subs['z']\n",
    "subs.loc[subs['z'] - subs['z_host'] > box_len/2, 'z_adj'] = subs['z'] - 160\n",
    "subs.loc[subs['z'] - subs['z_host'] < -box_len/2, 'z_adj'] = subs['z'] + 160"
   ]
  },
  {
   "cell_type": "code",
   "execution_count": null,
   "metadata": {},
   "outputs": [],
   "source": [
    "VSMDPL_subs_raw = subs.copy()\n",
    "%store VSMDPL_subs_raw\n",
    "VSMDPL_subs_raw"
   ]
  },
  {
   "attachments": {},
   "cell_type": "markdown",
   "metadata": {},
   "source": [
    "<h2>Make cuts to get SAGA-like data</h2>\n",
    "<h4>Current cuts</h4>\n",
    "\n",
    "- vmax_mpeak >= 45 (following vmax_mpeak vs # satellites & using saga # satellites average)\n",
    "\n",
    "- 3 or more satellites\n",
    "\n",
    "<h4>Unused cuts</h4>\n",
    "\n",
    "- mvir >= 1e10"
   ]
  },
  {
   "cell_type": "code",
   "execution_count": null,
   "metadata": {},
   "outputs": [],
   "source": [
    "# Filter by most massive\n",
    "# subs = df[df['mvir'] >= 1e10]\n",
    "\n",
    "# # Use vmax_mpeak as proxy for luminosity\n",
    "# vmax_cutoff_for_avg_num = {\n",
    "#     '3.5' : 61,\n",
    "#       '4' : 51.6,\n",
    "#     '4.5' : 46.4,\n",
    "#       '5' : 43.5,\n",
    "#     '5.5' : 40.98,\n",
    "#     'saga': 44.09 # 4.855 sats per host on average\n",
    "# }\n",
    "\n",
    "subs_cut = subs[subs['vmax_mpeak'] >= 44.09].copy() # cutoff for 4.855 subs on average (SAGA average)\n",
    "\n",
    "len(subs_cut.upid.unique())"
   ]
  },
  {
   "cell_type": "code",
   "execution_count": null,
   "metadata": {},
   "outputs": [],
   "source": [
    "# Select only satellite systems with 3 or more members\n",
    "subs_cut = subs_cut.groupby(['upid']).filter(lambda x: len(x) > 2).copy()\n",
    "average_num_subs = len(subs_cut)/len(subs_cut['upid'].unique())\n",
    "average_num_subs\n",
    "display(average_num_subs)\n",
    "display(len(subs_cut['upid'].unique()))\n",
    "VSMDPL_subs_saga_avg = subs_cut.copy()\n",
    "\n",
    "subs_raw_grouped = subs.groupby(['upid']).filter(lambda x: len(x) > 2).copy()\n",
    "average_num_subs = len(subs_raw_grouped)/len(subs_raw_grouped['upid'].unique())\n",
    "average_num_subs\n",
    "display(average_num_subs)\n",
    "VSMDPL_subs_raw = subs_raw_grouped.copy()\n",
    "VSMDPL_subs_raw"
   ]
  },
  {
   "attachments": {},
   "cell_type": "markdown",
   "metadata": {},
   "source": [
    "<h2>Ellipticity calculations</h2>"
   ]
  },
  {
   "attachments": {},
   "cell_type": "markdown",
   "metadata": {},
   "source": [
    "<h4>Quadrupole moments</h4>"
   ]
  },
  {
   "cell_type": "code",
   "execution_count": null,
   "metadata": {},
   "outputs": [],
   "source": [
    "ellipticity_df = subs_cut.copy()\n",
    "ellipticity_df['x_diff_sq'] = (ellipticity_df['x_adj'] - ellipticity_df['x_host'])**2\n",
    "ellipticity_df['y_diff_sq'] = (ellipticity_df['y_adj'] - ellipticity_df['y_host'])**2\n",
    "ellipticity_df['x_diff_y_diff'] = (ellipticity_df['y_adj'] - ellipticity_df['y_host'])*(ellipticity_df['x_adj'] - ellipticity_df['x_host'])\n",
    "ellipticity_df = ellipticity_df.groupby('upid', as_index = False)['x_diff_sq', 'y_diff_sq', 'x_diff_y_diff'].mean().rename(columns={'x_diff_sq':'Q_xx', 'y_diff_sq':'Q_yy', 'x_diff_y_diff':'Q_xy'})\n",
    "ellipticity_df"
   ]
  },
  {
   "attachments": {},
   "cell_type": "markdown",
   "metadata": {},
   "source": [
    "\n",
    "<h4>Ellipticity components</h4>"
   ]
  },
  {
   "cell_type": "code",
   "execution_count": null,
   "metadata": {},
   "outputs": [],
   "source": [
    "def e_1 (Q_xx, Q_yy, Q_xy):\n",
    "    return (( Q_xx - Q_yy )/(Q_xx + Q_yy + 2*(Q_xx*Q_yy-Q_xy**2)**(1/2)))\n",
    "def e_2 (Q_xx, Q_yy, Q_xy):\n",
    "    return (2*Q_xy/(Q_xx + Q_yy + 2*(Q_xx*Q_yy-Q_xy**2)**(1/2)))\n",
    "def e_3 (e_1, e_2):\n",
    "    return ( e_1**2 + e_2**2 )**(1/2)\n",
    "\n",
    "\n",
    "ellipticity_df['e_1'] = e_1(ellipticity_df['Q_xx'], ellipticity_df['Q_yy'], ellipticity_df['Q_xy'])\n",
    "ellipticity_df['e_2'] = e_2(ellipticity_df['Q_xx'], ellipticity_df['Q_yy'], ellipticity_df['Q_xy'])\n",
    "ellipticity_df['e_3'] = e_3(ellipticity_df['e_1'], ellipticity_df['e_2'])"
   ]
  },
  {
   "cell_type": "code",
   "execution_count": null,
   "metadata": {},
   "outputs": [],
   "source": [
    "# sns.set(style=\"darkgrid\", palette=\"viridis\")\n",
    "custom_style = {\n",
    "    \"figure.facecolor\": \"212946\",\n",
    "    \"axes.facecolor\": \"212946\",\n",
    "    \"savefig.facecolor\": \"212946\", \n",
    "    \"grid.color\": \"2A3459\",\n",
    "    \"text.color\": \"0.9\",\n",
    "    \"axes.labelcolor\": \"0.9\",\n",
    "    \"xtick.color\": \"0.9\",\n",
    "    \"ytick.color\": \"0.9\",\n",
    "    \"grid.linestyle\": \"-\",\n",
    "    \"lines.solid_capstyle\": \"round\"\n",
    "}\n",
    "\n",
    "sns.set_style(\"darkgrid\", custom_style)"
   ]
  },
  {
   "cell_type": "code",
   "execution_count": null,
   "metadata": {},
   "outputs": [],
   "source": [
    "ax = sns.histplot(ellipticity_df[\"e_3\"], bins=7, element='poly', stat=\"density\", fill=False)\n",
    "ax.set(xlabel=\"$\\longleftarrow$ more elliptical         (b/a)           more spherical $\\longrightarrow$\")"
   ]
  },
  {
   "cell_type": "code",
   "execution_count": null,
   "metadata": {},
   "outputs": [],
   "source": [
    "ellipticity_df_VSMDPL_saga_avg = ellipticity_df.copy()\n",
    "%store ellipticity_df_VSMDPL_saga_avg"
   ]
  },
  {
   "attachments": {},
   "cell_type": "markdown",
   "metadata": {},
   "source": [
    "<h4>Store ellipticity DataFrame to use in other nbs</h4>"
   ]
  },
  {
   "cell_type": "code",
   "execution_count": null,
   "metadata": {},
   "outputs": [],
   "source": [
    "ellipticity_df_VSMDPL_5_5 = ellipticity_df.copy()\n",
    "%store ellipticity_df_VSMDPL_5_5"
   ]
  },
  {
   "attachments": {},
   "cell_type": "markdown",
   "metadata": {},
   "source": [
    "<h2>Highest luminosity analysis</h2>"
   ]
  },
  {
   "cell_type": "code",
   "execution_count": null,
   "metadata": {},
   "outputs": [],
   "source": [
    "highest_luminosity_subs = hosts_and_subs.groupby('upid', as_index = False)['Mr', 'num_satellites'].min()"
   ]
  },
  {
   "cell_type": "code",
   "execution_count": null,
   "metadata": {},
   "outputs": [],
   "source": [
    "highest_luminosity_ellipticity = pd.merge(highest_luminosity_subs, ellipticity_df, how=\"left\", left_on=\"upid\", right_on=\"upid\")[['upid', 'Mr', 'e_3']]"
   ]
  },
  {
   "cell_type": "code",
   "execution_count": null,
   "metadata": {},
   "outputs": [],
   "source": [
    "# get rid of hosts which were filtered out by \n",
    "highest_luminosity_ellipticity_VSMDPL = highest_luminosity_ellipticity[~highest_luminosity_ellipticity['e_3'].isna()]\n",
    "%store highest_luminosity_ellipticity_VSMDPL"
   ]
  },
  {
   "attachments": {},
   "cell_type": "markdown",
   "metadata": {},
   "source": [
    "<h2>Concat highest luminosity w/ log(vmax_mpeak)</h2>"
   ]
  },
  {
   "cell_type": "code",
   "execution_count": null,
   "metadata": {},
   "outputs": [],
   "source": [
    "highest_vmax_subs = hosts_and_subs.groupby('upid', as_index = False)['vmax_mpeak'].max()"
   ]
  },
  {
   "cell_type": "code",
   "execution_count": null,
   "metadata": {},
   "outputs": [],
   "source": [
    "highest_vmax_ellipticity = pd.merge(highest_vmax_subs, ellipticity_df, how=\"left\", left_on=\"upid\", right_on=\"upid\")[['upid', 'vmax_mpeak', 'e_3']]\n",
    "highest_vmax_ellipticity"
   ]
  },
  {
   "cell_type": "code",
   "execution_count": null,
   "metadata": {},
   "outputs": [],
   "source": [
    "highest_vmax_ellipticity['log_vmax_mpeak'] = np.log(highest_vmax_ellipticity['vmax_mpeak'])"
   ]
  },
  {
   "cell_type": "code",
   "execution_count": null,
   "metadata": {},
   "outputs": [],
   "source": [
    "highest_vmax_ellipticity_VSMDPL = highest_vmax_ellipticity[~highest_vmax_ellipticity['e_3'].isna()]\n",
    "%store highest_vmax_ellipticity_VSMDPL\n",
    "highest_vmax_ellipticity_VSMDPL"
   ]
  },
  {
   "cell_type": "code",
   "execution_count": null,
   "metadata": {},
   "outputs": [],
   "source": [
    "import matplotlib.pyplot as plt"
   ]
  },
  {
   "cell_type": "code",
   "execution_count": null,
   "metadata": {},
   "outputs": [],
   "source": [
    "fig, ax1 = plt.subplots()\n",
    "ax1.set_xlabel('\"$\\longleftarrow$ more elliptical         ellipticity           more spherical $\\longrightarrow$\"')\n",
    "ax1.set_ylabel('log(vmax_mpeak)')\n",
    "sp1 = sns.scatterplot(data=highest_vmax_ellipticity_VSMDPL, x='e_3', y='log_vmax_mpeak', ax=ax1, s=2)"
   ]
  },
  {
   "cell_type": "code",
   "execution_count": null,
   "metadata": {},
   "outputs": [],
   "source": [
    "fig = sp1.figure.get_figure()\n",
    "fig.set_size_inches([6, 4])\n",
    "fig.savefig(\"SimVmax_mpeakVsEllipticity.png\",dpi=600)"
   ]
  },
  {
   "attachments": {},
   "cell_type": "markdown",
   "metadata": {},
   "source": [
    "<h2>Average # satellites per vmax_mpeak</h2>"
   ]
  },
  {
   "cell_type": "code",
   "execution_count": null,
   "metadata": {},
   "outputs": [],
   "source": [
    "hosts_num_vmax = subs.groupby('upid').first()[['vmax_mpeak_host', 'num_satellites']]\n",
    "hosts_num_vmax"
   ]
  },
  {
   "attachments": {},
   "cell_type": "markdown",
   "metadata": {},
   "source": [
    "Bin hosts by vmax_mpeak"
   ]
  },
  {
   "cell_type": "code",
   "execution_count": null,
   "metadata": {},
   "outputs": [],
   "source": [
    "hosts_num_vmax_averages = hosts_num_vmax.groupby(pd.cut(hosts_num_vmax['vmax_mpeak_host'], np.linspace(135, 340, 20))).mean()\n",
    "hosts_num_vmax_averages"
   ]
  },
  {
   "cell_type": "code",
   "execution_count": null,
   "metadata": {},
   "outputs": [],
   "source": [
    "fig2, ax2 = plt.subplots()\n",
    "ax2.set_xlabel('vmax_mpeak')\n",
    "ax2.set_ylabel('average # satellites')\n",
    "sp2 = plt.plot(hosts_num_vmax_averages['vmax_mpeak_host'], hosts_num_vmax_averages['num_satellites'])"
   ]
  },
  {
   "cell_type": "code",
   "execution_count": null,
   "metadata": {},
   "outputs": [],
   "source": [
    "fig3, ax3 = plt.subplots()\n",
    "ax3.set_xlabel('vmax_mpeak')\n",
    "ax3.set_ylabel('# satellites')\n",
    "sp3 = plt.scatter(hosts_num_vmax['vmax_mpeak_host'], hosts_num_vmax['num_satellites'], s=2)"
   ]
  },
  {
   "cell_type": "code",
   "execution_count": null,
   "metadata": {},
   "outputs": [],
   "source": [
    "import scipy as sp\n",
    "spearmanr_results = sp.stats.spearmanr(hosts_num_vmax['vmax_mpeak_host'], hosts_num_vmax['num_satellites'], axis=0, nan_policy='propagate', alternative='two-sided')\n",
    "spearmanr_results"
   ]
  }
 ],
 "metadata": {
  "kernelspec": {
   "display_name": "satellite-ellipticities",
   "language": "python",
   "name": "python3"
  },
  "language_info": {
   "codemirror_mode": {
    "name": "ipython",
    "version": 3
   },
   "file_extension": ".py",
   "mimetype": "text/x-python",
   "name": "python",
   "nbconvert_exporter": "python",
   "pygments_lexer": "ipython3",
   "version": "3.9.16"
  },
  "orig_nbformat": 4,
  "vscode": {
   "interpreter": {
    "hash": "593019684f7021e8fe6a4c3db3cb5af2bec7f7dac2e37296bac94ddb3e8f915d"
   }
  }
 },
 "nbformat": 4,
 "nbformat_minor": 2
}
