{
 "cells": [
  {
   "cell_type": "code",
   "execution_count": null,
   "metadata": {},
   "outputs": [],
   "source": [
    "import pandas as pd\n",
    "import seaborn as sns\n",
    "import os\n",
    "import matplotlib.pyplot as plt\n",
    "from dotenv import load_dotenv\n",
    "\n",
    "load_dotenv()"
   ]
  },
  {
   "cell_type": "code",
   "execution_count": null,
   "metadata": {},
   "outputs": [],
   "source": [
    "# Add the files to these paths in your .env file\n",
    "sdss_dummy_data_file = os.getenv('SDSS_DUMMY_DATA_FILE')\n",
    "sdss_dummy_data_expected_file = os.getenv('SDSS_DUMMY_DATA_EXPECTED_FILE')"
   ]
  },
  {
   "cell_type": "code",
   "execution_count": null,
   "metadata": {},
   "outputs": [],
   "source": [
    "%store -r "
   ]
  },
  {
   "cell_type": "code",
   "execution_count": null,
   "metadata": {},
   "outputs": [],
   "source": [
    "# Hard-coding in the SDSS 2-D histogram data from the paper\n",
    "SDSS_Dummy_data = pd.read_excel(sdss_dummy_data_file, engine=\"odf\")\n",
    "SDSS_Dummy_data_exp = pd.read_excel(sdss_dummy_data_expected_file, engine=\"odf\")\n",
    "\n",
    "SDSS_Dummy_data_exp"
   ]
  },
  {
   "cell_type": "code",
   "execution_count": null,
   "metadata": {},
   "outputs": [],
   "source": [
    "ellipticity_df_VSMDPL.rename(columns = {'upid':'HOSTID'}, inplace = True)\n",
    "ellipticity_df_VSMDPL_interlopers.rename(columns = {'interloper_host_id':'HOSTID'}, inplace = True)\n",
    "ellipticity_df_VSMDPL_3_5.rename(columns = {'upid':'HOSTID'}, inplace = True)\n",
    "ellipticity_df_VSMDPL_4.rename(columns = {'upid':'HOSTID'}, inplace = True)\n",
    "ellipticity_df_VSMDPL_4_5.rename(columns = {'upid':'HOSTID'}, inplace = True)\n",
    "ellipticity_df_VSMDPL_5.rename(columns = {'upid':'HOSTID'}, inplace = True)\n",
    "ellipticity_df_VSMDPL_5_5.rename(columns = {'upid':'HOSTID'}, inplace = True)\n",
    "\n",
    "ellipticity_df_VSMDPL_interlopers['Dataset'] = 'VSMDPL_interlopers'\n",
    "ellipticity_df_VSMDPL['Dataset'] = 'VSMDPL (SAGA avg)'\n",
    "ellipticity_df_SAGA['Dataset'] = 'SAGA'\n",
    "ellipticity_df_VSMDPL_3_5['Dataset'] = 'VSMDPL (3.5 avg)'\n",
    "ellipticity_df_VSMDPL_4['Dataset'] = 'VSMDPL (4 avg)'\n",
    "ellipticity_df_VSMDPL_4_5['Dataset'] = 'VSMDPL (4.5 avg)'\n",
    "ellipticity_df_VSMDPL_5['Dataset'] = 'VSMDPL (5 avg)'\n",
    "ellipticity_df_VSMDPL_5_5['Dataset'] = 'VSMDPL (5.5 avg)'\n",
    "\n",
    "prominence_table_SAGA['Dataset'] = 'SAGA_expected'\n",
    "prominence_table_VSMDPL['Dataset'] = 'VSMDPL_expected'\n",
    "SDSS_Dummy_data['Dataset'] = 'SDSS'\n",
    "SDSS_Dummy_data_exp['Dataset'] = 'SDSS_expected'\n",
    "\n",
    "ellipticity_df_VSMDPL = ellipticity_df_VSMDPL[['HOSTID', 'e_3', 'Dataset']]\n",
    "ellipticity_df_SAGA = ellipticity_df_SAGA[['HOSTID', 'e_3', 'Dataset']]\n",
    "ellipticity_df_VSMDPL_interlopers = ellipticity_df_VSMDPL_interlopers[['HOSTID', 'e_3', 'Dataset']]\n",
    "ellipticity_df_VSMDPL_3_5 = ellipticity_df_VSMDPL_3_5[['HOSTID', 'e_3', 'Dataset']]\n",
    "ellipticity_df_VSMDPL_4 = ellipticity_df_VSMDPL_4[['HOSTID', 'e_3', 'Dataset']]\n",
    "ellipticity_df_VSMDPL_4_5 = ellipticity_df_VSMDPL_4_5[['HOSTID', 'e_3', 'Dataset']]\n",
    "ellipticity_df_VSMDPL_5 = ellipticity_df_VSMDPL_5[['HOSTID', 'e_3', 'Dataset']]\n",
    "ellipticity_df_VSMDPL_5_5 = ellipticity_df_VSMDPL_5_5[['HOSTID', 'e_3', 'Dataset']]\n",
    "prominence_table_SAGA = prominence_table_SAGA[['HOSTID', 'ellipticity_exp', 'Dataset']]\n",
    "prominence_table_VSMDPL = prominence_table_VSMDPL[['HOSTID', 'ellipticity_exp', 'Dataset']]\n",
    "\n",
    "prominence_table_SAGA.rename(columns = {'ellipticity_exp':'e_3'}, inplace = True)\n",
    "prominence_table_VSMDPL.rename(columns = {'ellipticity_exp':'e_3'}, inplace = True)"
   ]
  },
  {
   "cell_type": "code",
   "execution_count": null,
   "metadata": {},
   "outputs": [],
   "source": [
    "ellipticity_df = pd.concat([ellipticity_df_SAGA, ellipticity_df_VSMDPL, ellipticity_df_VSMDPL_interlopers, ellipticity_df_VSMDPL_3_5, ellipticity_df_VSMDPL_4, ellipticity_df_VSMDPL_4_5, ellipticity_df_VSMDPL_5, ellipticity_df_VSMDPL_5_5, prominence_table_SAGA, prominence_table_VSMDPL, SDSS_Dummy_data, SDSS_Dummy_data_exp]).reset_index(drop=True)"
   ]
  },
  {
   "cell_type": "code",
   "execution_count": null,
   "metadata": {},
   "outputs": [],
   "source": [
    "custom_style = {\n",
    "    \"figure.facecolor\": \"212946\",\n",
    "    \"axes.facecolor\": \"212946\",\n",
    "    \"savefig.facecolor\": \"212946\", \n",
    "    \"grid.color\": \"2A3459\",\n",
    "    \"text.color\": \"0.9\",\n",
    "    \"axes.labelcolor\": \"0.9\",\n",
    "    \"xtick.color\": \"0.9\",\n",
    "    \"ytick.color\": \"0.9\",\n",
    "    \"grid.linestyle\": \"-\",\n",
    "    \"lines.solid_capstyle\": \"round\"\n",
    "}\n",
    "\n",
    "sns.set_style(\"darkgrid\", custom_style)"
   ]
  },
  {
   "cell_type": "code",
   "execution_count": null,
   "metadata": {},
   "outputs": [],
   "source": [
    "fig, ax1 = plt.subplots()\n",
    "ax1.set_xlabel('$\\longleftarrow$ more spherical         Ellipticity (2D)         more elliptical $\\longrightarrow$')\n",
    "sp1 = sns.histplot(ellipticity_df, x=\"e_3\", hue=\"Dataset\", hue_order=['SAGA', 'VSMDPL (SAGA avg)', 'VSMDPL (3.5 avg)', 'VSMDPL (4 avg)', 'VSMDPL (4.5 avg)', 'VSMDPL (5 avg)', 'VSMDPL (5.5 avg)'], bins=7, element=\"poly\", stat=\"density\", common_norm=False, common_bins=True, fill=False, ax=ax1, palette='viridis')"
   ]
  },
  {
   "cell_type": "code",
   "execution_count": null,
   "metadata": {},
   "outputs": [],
   "source": [
    "# sns.set(rc={\"figure.figsize\":(15, 8)}) #width=3, #height=4\n",
    "fig, ax1 = plt.subplots()\n",
    "ax1.set_xlabel('$\\longleftarrow$ more elliptical         Ellipticity (2D)         more spherical $\\longrightarrow$')\n",
    "sp1 = sns.histplot(ellipticity_df, x=\"e_3\", hue=\"Dataset\", hue_order=['SAGA', 'VSMDPL (SAGA avg)', 'SDSS', 'SAGA_expected', 'VSMDPL_expected', 'SDSS_expected'], bins=7, element=\"poly\", stat=\"density\", common_norm=False, common_bins=True, fill=False, ax=ax1)"
   ]
  }
 ],
 "metadata": {
  "kernelspec": {
   "display_name": "satellite-ellipticities",
   "language": "python",
   "name": "python3"
  },
  "language_info": {
   "codemirror_mode": {
    "name": "ipython",
    "version": 3
   },
   "file_extension": ".py",
   "mimetype": "text/x-python",
   "name": "python",
   "nbconvert_exporter": "python",
   "pygments_lexer": "ipython3",
   "version": "3.9.16"
  },
  "orig_nbformat": 4,
  "vscode": {
   "interpreter": {
    "hash": "593019684f7021e8fe6a4c3db3cb5af2bec7f7dac2e37296bac94ddb3e8f915d"
   }
  }
 },
 "nbformat": 4,
 "nbformat_minor": 2
}
