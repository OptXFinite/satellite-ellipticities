{
 "cells": [
  {
   "cell_type": "code",
   "execution_count": null,
   "metadata": {},
   "outputs": [],
   "source": [
    "import pandas as pd\n",
    "import seaborn as sns"
   ]
  },
  {
   "cell_type": "code",
   "execution_count": null,
   "metadata": {},
   "outputs": [],
   "source": [
    "VSDMPL_DATA = \"\" # path to parquet"
   ]
  },
  {
   "cell_type": "code",
   "execution_count": null,
   "metadata": {},
   "outputs": [],
   "source": [
    "df = pd.read_parquet(VSDMPL_DATA)"
   ]
  },
  {
   "cell_type": "markdown",
   "metadata": {},
   "source": [
    "<h2>Make cuts to get SAGA-like data</h2>"
   ]
  },
  {
   "cell_type": "code",
   "execution_count": null,
   "metadata": {},
   "outputs": [],
   "source": [
    "# Filter by most massive\n",
    "# subs = df[df['mvir'] >= 1e10]\n",
    "\n",
    "# Use vmax_mpeak as proxy for luminosity\n",
    "subs = df[df['vmax_mpeak'] >= 30]\n",
    "\n",
    "subs.sort_values(by=['upid', 'id'])"
   ]
  },
  {
   "cell_type": "markdown",
   "metadata": {},
   "source": [
    "<h2>Plot & Plot data</h2>"
   ]
  },
  {
   "cell_type": "code",
   "execution_count": null,
   "metadata": {},
   "outputs": [],
   "source": [
    "# sns.set(style=\"darkgrid\", palette=\"viridis\")\n",
    "custom_style = {\n",
    "    \"figure.facecolor\": \"212946\",\n",
    "    \"axes.facecolor\": \"212946\",\n",
    "    \"savefig.facecolor\": \"212946\", \n",
    "    \"grid.color\": \"2A3459\",\n",
    "    \"text.color\": \"0.9\",\n",
    "    \"axes.labelcolor\": \"0.9\",\n",
    "    \"xtick.color\": \"0.9\",\n",
    "    \"ytick.color\": \"0.9\",\n",
    "    \"font.family\": \"Bitstream Vera Sans\",\n",
    "    \"grid.linestyle\": \"-\",\n",
    "    \"lines.solid_capstyle\": \"round\"\n",
    "}\n",
    "\n",
    "sns.set_style(\"darkgrid\", custom_style)"
   ]
  },
  {
   "cell_type": "code",
   "execution_count": null,
   "metadata": {},
   "outputs": [],
   "source": [
    "subs_test = subs.groupby(['upid']).filter(lambda x: len(x) > 2)\n",
    "\n",
    "# add dummy rows to put parent data in graph - just easy method for graph grouping\n",
    "test_parents = subs_test['upid'].unique()\n",
    "subs_test_with_hosts = subs_test.copy()\n",
    "\n",
    "for parent_id in test_parents:\n",
    "    row = df[df['id'] == parent_id].copy()\n",
    "    row['upid'] = row['id']\n",
    "    subs_test_with_hosts = pd.concat([subs_test_with_hosts, row])\n",
    "    \n",
    "subs_test_with_hosts.sort_values(by=['id'])\n",
    "subs_test_with_hosts.head(40)"
   ]
  },
  {
   "cell_type": "code",
   "execution_count": null,
   "metadata": {},
   "outputs": [],
   "source": [
    "g = sns.FacetGrid(subs_test_with_hosts, col=\"upid\", col_wrap=8, height=2, sharex=False, sharey=False, palette=\"viridis\", hue=\"mvir\")\n",
    "g.map(sns.scatterplot, \"x\", \"y\")\n"
   ]
  }
 ],
 "metadata": {
  "kernelspec": {
   "display_name": "Python 3.10.4 64-bit",
   "language": "python",
   "name": "python3"
  },
  "language_info": {
   "codemirror_mode": {
    "name": "ipython",
    "version": 3
   },
   "file_extension": ".py",
   "mimetype": "text/x-python",
   "name": "python",
   "nbconvert_exporter": "python",
   "pygments_lexer": "ipython3",
   "version": "3.10.6 (main, Nov 14 2022, 16:10:14) [GCC 11.3.0]"
  },
  "orig_nbformat": 4,
  "vscode": {
   "interpreter": {
    "hash": "916dbcbb3f70747c44a77c7bcd40155683ae19c65e1c03b4aa3499c5328201f1"
   }
  }
 },
 "nbformat": 4,
 "nbformat_minor": 2
}
