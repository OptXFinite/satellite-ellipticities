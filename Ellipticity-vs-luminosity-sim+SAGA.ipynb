{
 "cells": [
  {
   "cell_type": "code",
   "execution_count": null,
   "metadata": {},
   "outputs": [],
   "source": [
    "import pandas as pd\n",
    "import seaborn as sns\n",
    "import matplotlib.pyplot as plt\n",
    "import scipy as sp"
   ]
  },
  {
   "cell_type": "code",
   "execution_count": null,
   "metadata": {},
   "outputs": [],
   "source": [
    "%store -r highest_luminosity_ellipticity_SAGA\n",
    "%store -r highest_luminosity_ellipticity_VSMDPL"
   ]
  },
  {
   "cell_type": "code",
   "execution_count": null,
   "metadata": {},
   "outputs": [],
   "source": [
    "highest_luminosity_ellipticity_VSMDPL.rename(columns = {'upid':'HOSTID'}, inplace = True)\n",
    "\n",
    "highest_luminosity_ellipticity_VSMDPL['Dataset'] = 'VSMDPL'\n",
    "highest_luminosity_ellipticity_SAGA['Dataset'] = 'SAGA'"
   ]
  },
  {
   "cell_type": "code",
   "execution_count": null,
   "metadata": {},
   "outputs": [],
   "source": [
    "highest_luminosity_ellipticity = pd.concat([highest_luminosity_ellipticity_SAGA, highest_luminosity_ellipticity_VSMDPL]).reset_index(drop=True)\n",
    "highest_luminosity_ellipticity.columns = ['HOSTID', 'Mr', 'e_3', 'Dataset']"
   ]
  },
  {
   "cell_type": "code",
   "execution_count": null,
   "metadata": {},
   "outputs": [],
   "source": [
    "custom_style = {\n",
    "    \"figure.facecolor\": \"212946\",\n",
    "    \"axes.facecolor\": \"212946\",\n",
    "    \"savefig.facecolor\": \"212946\", \n",
    "    \"grid.color\": \"2A3459\",\n",
    "    \"text.color\": \"0.9\",\n",
    "    \"axes.labelcolor\": \"0.9\",\n",
    "    \"xtick.color\": \"0.9\",\n",
    "    \"ytick.color\": \"0.9\",\n",
    "    \"font.family\": \"Bitstream Vera Sans\",\n",
    "    \"grid.linestyle\": \"-\",\n",
    "    \"lines.solid_capstyle\": \"round\"\n",
    "}\n",
    "\n",
    "sns.set_style(\"darkgrid\", custom_style)"
   ]
  },
  {
   "cell_type": "code",
   "execution_count": null,
   "metadata": {},
   "outputs": [],
   "source": [
    "fig, ax1 = plt.subplots()\n",
    "ax1.set_xlabel('ellipticity (2D)')\n",
    "ax1.set_ylabel('R-band magnitude')\n",
    "sp1 = sns.scatterplot(data=highest_luminosity_ellipticity, x='e_3', y='Mr', size='Dataset', size_order=['SAGA', 'VSMDPL'], sizes=[20,2], markers={'SAGA': 'X', 'VSMDPL': 'o'}, style='Dataset', hue='Dataset', hue_order=['SAGA', 'VSMDPL'], palette=['yellow', 'green'], ax=ax1)"
   ]
  },
  {
   "cell_type": "code",
   "execution_count": null,
   "metadata": {},
   "outputs": [],
   "source": [
    "spearmanr_results_SAGA = sp.stats.spearmanr(highest_luminosity_ellipticity_SAGA['e_3'], highest_luminosity_ellipticity_SAGA['Mr'], axis=0, nan_policy='propagate', alternative='two-sided')\n",
    "# spearmanr_results_SAGA.correlation\n",
    "# spearmanr_results_SAGA.pvalue\n",
    "\n",
    "spearmanr_results_SAGA"
   ]
  },
  {
   "cell_type": "code",
   "execution_count": null,
   "metadata": {},
   "outputs": [],
   "source": [
    "spearmanr_results_VSMDPL = sp.stats.spearmanr(highest_luminosity_ellipticity_VSMDPL['e_3'], highest_luminosity_ellipticity_VSMDPL['Mr'], axis=0, nan_policy='propagate', alternative='two-sided')\n",
    "spearmanr_results_VSMDPL"
   ]
  },
  {
   "cell_type": "code",
   "execution_count": null,
   "metadata": {},
   "outputs": [],
   "source": [
    "fig = sp1.figure.get_figure()\n",
    "fig.set_size_inches([6, 4])\n",
    "fig.savefig(\"BrightestMagnitudeSatVsEllipticity.png\",dpi=600)"
   ]
  },
  {
   "cell_type": "code",
   "execution_count": null,
   "metadata": {},
   "outputs": [],
   "source": []
  }
 ],
 "metadata": {
  "kernelspec": {
   "display_name": "Python 3.10.4 64-bit",
   "language": "python",
   "name": "python3"
  },
  "language_info": {
   "codemirror_mode": {
    "name": "ipython",
    "version": 3
   },
   "file_extension": ".py",
   "mimetype": "text/x-python",
   "name": "python",
   "nbconvert_exporter": "python",
   "pygments_lexer": "ipython3",
   "version": "3.10.6 (main, Nov 14 2022, 16:10:14) [GCC 11.3.0]"
  },
  "orig_nbformat": 4,
  "vscode": {
   "interpreter": {
    "hash": "916dbcbb3f70747c44a77c7bcd40155683ae19c65e1c03b4aa3499c5328201f1"
   }
  }
 },
 "nbformat": 4,
 "nbformat_minor": 2
}
