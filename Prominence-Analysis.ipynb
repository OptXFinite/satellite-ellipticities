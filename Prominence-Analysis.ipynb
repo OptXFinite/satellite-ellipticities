{
 "cells": [
  {
   "cell_type": "code",
   "execution_count": null,
   "metadata": {},
   "outputs": [],
   "source": [
    "import numpy as np\n",
    "import pandas as pd\n",
    "import SAGA\n",
    "import matplotlib.pyplot as plt\n",
    "import seaborn as sns\n",
    "from operator import itemgetter\n",
    "import os\n",
    "from dotenv import load_dotenv\n",
    "\n",
    "from SAGA import ObjectCuts as C\n",
    "\n",
    "load_dotenv()"
   ]
  },
  {
   "cell_type": "code",
   "execution_count": null,
   "metadata": {},
   "outputs": [],
   "source": [
    "# Data manipulations\n",
    "\n",
    "def get_radii(coordinates):\n",
    "    radii = []\n",
    "    for coordinate_pair in coordinates:\n",
    "        radii.append(np.sqrt(coordinate_pair[0]**2+coordinate_pair[1]**2))\n",
    "    return radii\n",
    "    \n",
    "def get_ellipticities(coordinates):\n",
    "    # # First get quadrupole moments\n",
    "    coordinates_squared = np.square(coordinates)\n",
    "\n",
    "    xdiff_ydiff_col = np.prod(coordinates, axis=2)\n",
    "    xdiff_ydiff_col = xdiff_ydiff_col[:,:,np.newaxis]\n",
    "\n",
    "    quadrupole_moments_setup = np.insert(coordinates_squared, 0, [[[xdiff_ydiff_col]]], axis=2) # diffx*diffy now at position 0\n",
    "    quadrupole_moments = quadrupole_moments_setup.mean(axis=1)\n",
    "\n",
    "    # # Get ellipticity from quadrupole moments\n",
    "    # Q_xy, Q_xx, Q_yy = np.quadrupole_moments\n",
    "    quadrupole_xx_yy = quadrupole_moments[:,1:3]\n",
    "    quadrupole_xy = quadrupole_moments[:,0:1]\n",
    "\n",
    "    e_1_numerator = -np.diff(quadrupole_xx_yy, axis=1)\n",
    "    e_2_numerator = 2*quadrupole_xy\n",
    "\n",
    "    e_denominator_1 = np.sum(quadrupole_xx_yy, axis=1)[:,np.newaxis]\n",
    "    e_denominator_inside_sqrt = np.prod(quadrupole_xx_yy, axis=1)[:,np.newaxis] - quadrupole_xy**2\n",
    "    e_denominator = e_denominator_1 + 2*np.sqrt(e_denominator_inside_sqrt)\n",
    "\n",
    "    e_1 = e_1_numerator / e_denominator\n",
    "    e_2 = e_2_numerator / e_denominator\n",
    "\n",
    "    ellipticities = np.sqrt(e_1**2 + e_2**2)[:,0]\n",
    "\n",
    "    return ellipticities\n",
    "\n",
    "\n",
    "def get_randomized_ellipticities(radii, num_repititions):\n",
    "    num = len(radii)\n",
    "    radial_stdev = np.std(radii)\n",
    "\n",
    "    # Create \"isotropic\" (random from uniform - not uniform) angles\n",
    "    coords = np.random.randn(num_repititions, num, 2)  # (number of times to repeat data set generation, how many satellites, how many spatial dimensions)\n",
    "    calc_radii = np.sqrt((coords**2).sum(axis=2))\n",
    "    normalized_coords = coords/calc_radii[:,:,np.newaxis]\n",
    "\n",
    "    # Move the positions of satellites out or in radially until they reach original radial scale\n",
    "    reshaped_radii = np.reshape(radii, (1,len(radii), 1))\n",
    "    scaled_coords = normalized_coords*reshaped_radii\n",
    "\n",
    "    ellipticities = get_ellipticities(scaled_coords,)\n",
    "    \n",
    "    return ellipticities\n",
    "\n",
    "\n",
    "def get_prominence(actual, radii, num_repititions):\n",
    "    randomized = get_randomized_ellipticities(radii, num_repititions)\n",
    "    abv_actual = np.where(randomized > actual, 1, 0)\n",
    "    p_above_actual = np.sum(abv_actual)/num_repititions\n",
    "    prominence = 1/p_above_actual\n",
    "    \n",
    "    return prominence"
   ]
  },
  {
   "cell_type": "code",
   "execution_count": null,
   "metadata": {},
   "outputs": [],
   "source": [
    "# Dataframe manipulations\n",
    "def filter_subhalo_dataframe_by_num_satellites(cutoff):\n",
    "    filtered_dataframe = VSMDPL_subs_raw[VSMDPL_subs_raw['vmax_mpeak'] >= cutoff].copy()\n",
    "    filtered_dataframe = filtered_dataframe.groupby(['HOSTID']).filter(lambda x: len(x) > 2).copy()\n",
    "    return filtered_dataframe\n",
    "\n",
    "def add_coordinate_columns(dataframe):\n",
    "    dataframe['x_coord'] = dataframe['x_adj'] - dataframe['x_host']\n",
    "    dataframe['y_coord'] = dataframe['y_adj'] - dataframe['y_host']\n",
    "    # dataframe['z_coord'] = dataframe['z_adj'] - dataframe['z_host']\n",
    "    # dataframe['3d_coordinates'] = dataframe[['x_coord', 'y_coord', 'z_coord']].values.tolist()\n",
    "    dataframe['2d_coordinates'] = dataframe[['x_coord', 'y_coord']].values.tolist()\n",
    "\n",
    "def get_systems_dataframe(dataframe):\n",
    "    systems_df = dataframe.groupby('HOSTID')['2d_coordinates'].apply(tuple).reset_index(name='coordinates_list')\n",
    "    systems_df['coordinates_list'] = systems_df['coordinates_list'].tolist()\n",
    "    systems_df['radii'] = systems_df['coordinates_list'].apply(get_radii)\n",
    "    systems_df['Dataset'] = 'Actual'\n",
    "    return systems_df\n",
    "\n",
    "def add_ellipticity_column(dataframe):\n",
    "    dataframe['ellipticity'] = dataframe.apply(lambda x: get_ellipticities([x['coordinates_list']])[0], axis=1)\n",
    "\n",
    "def get_isotropic_data(dataframe):\n",
    "    dataframe_copy = dataframe.copy()\n",
    "    dataframe_copy['ellipticity'] = dataframe_copy.apply(lambda x: get_randomized_ellipticities(x['radii'], 1)[0], axis=1)\n",
    "    dataframe_copy['Dataset'] = 'Isotropic'\n",
    "    return dataframe_copy\n",
    "\n",
    "def add_num_subs_column(dataframe):\n",
    "    dataframe['num_subs'] = dataframe['radii'].str.len()\n",
    "    display(dataframe)\n",
    "\n",
    "def add_prominence_column(dataframe, num_iterations):\n",
    "    dataframe['prominence'] = dataframe.apply(lambda x: get_prominence(x['ellipticity'], x['radii'], num_iterations), axis=1)\n",
    "\n",
    "def get_prominence_dataframe(dataframe):\n",
    "    prominence_data = dataframe[['HOSTID', 'ellipticity', 'prominence', 'Dataset']].copy()\n",
    "    return prominence_data\n",
    "\n",
    "def plot_prominence(data, num_iterations):\n",
    "    format = {\n",
    "        \"figure.facecolor\": \"212946\",\n",
    "        \"axes.facecolor\": \"212946\",\n",
    "        \"savefig.facecolor\": \"212946\", \n",
    "        \"grid.color\": \"2A3459\",\n",
    "        \"text.color\": \"0.9\",\n",
    "        \"axes.labelcolor\": \"0.9\",\n",
    "        \"xtick.color\": \"0.9\",\n",
    "        \"ytick.color\": \"0.9\",\n",
    "        \"grid.linestyle\": \"-\",\n",
    "        \"lines.solid_capstyle\": \"round\",\n",
    "        \"figure.figsize\" : \"(11.7,8.27)\"\n",
    "    }\n",
    "\n",
    "    sns.set_style(\"darkgrid\", format)\n",
    "\n",
    "    fig, ax1 = plt.subplots()\n",
    "    sp1 = sns.ecdfplot(data=data, x=\"prominence\", hue=\"Dataset\", hue_order=['Actual', 'Isotropic'], complementary=True, ax=ax1)\n",
    "    ax1.set_xscale('log')\n",
    "    ax1.set_xlim(1,num_iterations)\n",
    "    plt.show()"
   ]
  },
  {
   "cell_type": "code",
   "execution_count": null,
   "metadata": {},
   "outputs": [],
   "source": [
    "def get_ellipticity_and_prominence_data(dataframe, num_iterations, num_isotropic):\n",
    "    add_coordinate_columns(dataframe)\n",
    "    systems_dataframe = get_systems_dataframe(dataframe).copy()\n",
    "    add_ellipticity_column(systems_dataframe) # this is the original dataframe\n",
    "    add_prominence_column(systems_dataframe, num_iterations) # bottleneckyy\n",
    "    prominence_data = get_prominence_dataframe(systems_dataframe).copy()\n",
    "\n",
    "    for i in range (0,num_isotropic):\n",
    "        systems_dataframe_isotropic = get_isotropic_data(systems_dataframe).copy()\n",
    "        add_prominence_column(systems_dataframe_isotropic, num_iterations)  \n",
    "        prominence_data_isotropic = get_prominence_dataframe(systems_dataframe_isotropic).copy()\n",
    "        prominence_data = pd.concat([prominence_data, prominence_data_isotropic], ignore_index=True)\n",
    "\n",
    "    return [systems_dataframe, prominence_data]"
   ]
  },
  {
   "attachments": {},
   "cell_type": "markdown",
   "metadata": {},
   "source": [
    "## Get Data"
   ]
  },
  {
   "cell_type": "code",
   "execution_count": null,
   "metadata": {},
   "outputs": [],
   "source": [
    "HOST_PROPERTIES = os.getenv('HOST_PROPERTIES')\n",
    "saga_hosts = pd.read_parquet(HOST_PROPERTIES)\n",
    "\n",
    "# from SAGA-halo-ellipticities (filtered + cartesian coords)\n",
    "%store -r\n",
    "\n",
    "iterations = 10000\n",
    "\n",
    "# Apples to apples these bad boys\n",
    "VSMDPL_subs_raw.rename(columns = {'upid':'HOSTID'}, inplace = True)\n",
    "saga_sats.rename(columns = {'X':'x_adj', 'Y':'y_adj', 'HOST_X':'x_host', 'HOST_Y':'y_host'}, inplace = True)\n",
    "VSMDPL_subs_interlopers.rename(columns = {'interloper_host_id':'HOSTID'}, inplace = True)\n",
    "\n",
    "# Use vmax_mpeak as proxy for luminosity\n",
    "vmax_cutoff_for_avg_num = {\n",
    "    '3.5' : 61,\n",
    "      '4' : 51.6,\n",
    "    '4.5' : 46.4,\n",
    "      '5' : 43.5,\n",
    "    '5.5' : 40.98,\n",
    "    'saga': 44.09 # 4.855 sats per host on average\n",
    "}\n",
    "\n",
    "VSMDPL_subs_multi = {}\n",
    "for cutoff in list(vmax_cutoff_for_avg_num.keys())[:5]:\n",
    "    VSMDPL_subs_multi[cutoff] = filter_subhalo_dataframe_by_num_satellites(vmax_cutoff_for_avg_num[cutoff])\n",
    "VSMDPL_subs = filter_subhalo_dataframe_by_num_satellites(vmax_cutoff_for_avg_num['saga'])\n",
    "saga_sats = saga_sats.groupby(['HOSTID']).filter(lambda x: len(x) > 2).copy()\n",
    "\n",
    "\n",
    "VSMDPL_subs_interlopers"
   ]
  },
  {
   "attachments": {},
   "cell_type": "markdown",
   "metadata": {},
   "source": [
    "## SAGA Analysis"
   ]
  },
  {
   "cell_type": "code",
   "execution_count": null,
   "metadata": {},
   "outputs": [],
   "source": [
    "saga_data, saga_plot = get_ellipticity_and_prominence_data(saga_sats, iterations, 1)\n",
    "plot_prominence(saga_plot, iterations)\n",
    "\n",
    "# saga_data"
   ]
  },
  {
   "attachments": {},
   "cell_type": "markdown",
   "metadata": {},
   "source": [
    "#### Generate 100x isotropic data"
   ]
  },
  {
   "cell_type": "code",
   "execution_count": null,
   "metadata": {},
   "outputs": [],
   "source": [
    "saga_data, saga_plot = get_ellipticity_and_prominence_data(saga_sats, iterations, 100)\n",
    "plot_prominence(saga_plot, iterations)\n",
    "# saga_data"
   ]
  },
  {
   "attachments": {},
   "cell_type": "markdown",
   "metadata": {},
   "source": [
    "## SIM Analysis"
   ]
  },
  {
   "cell_type": "code",
   "execution_count": null,
   "metadata": {},
   "outputs": [],
   "source": [
    "VSMDPL_data, VSMDPL_plot = get_ellipticity_and_prominence_data(VSMDPL_subs, iterations, 1)\n",
    "plot_prominence(VSMDPL_plot, iterations)\n",
    "# VSMDPL_data"
   ]
  },
  {
   "attachments": {},
   "cell_type": "markdown",
   "metadata": {},
   "source": [
    "## SAGA + SIM"
   ]
  },
  {
   "cell_type": "code",
   "execution_count": null,
   "metadata": {},
   "outputs": [],
   "source": [
    "saga_plot['Datasource'] = 'Saga'\n",
    "VSMDPL_plot['Datasource'] = 'VSMDPL'\n",
    "saga_sim_data = pd.concat([saga_plot, VSMDPL_plot], ignore_index=True)\n",
    "\n",
    "fig, ax1 = plt.subplots()\n",
    "sp1 = sns.ecdfplot(data=saga_sim_data, x=\"prominence\", hue=saga_sim_data[['Datasource', 'Dataset']].apply(tuple, axis=1), complementary=True, ax=ax1)\n",
    "ax1.set_xscale('log')\n",
    "ax1.set_xlim(1,10000)"
   ]
  },
  {
   "cell_type": "code",
   "execution_count": null,
   "metadata": {},
   "outputs": [],
   "source": [
    "saga_data['Datasource'] = 'Saga'\n",
    "VSMDPL_data['Datasource'] = 'VSMDPL'\n",
    "saga_sim_ellipticity_data = pd.concat([saga_data, VSMDPL_data], ignore_index=True)\n",
    "\n",
    "fig, ax1 = plt.subplots()\n",
    "ax1.set_xlabel('$\\longleftarrow$ more spherical         Ellipticity (2D)         more elliptical $\\longrightarrow$')\n",
    "sp1 = sns.histplot(saga_sim_ellipticity_data, x=\"ellipticity\", hue=\"Datasource\", hue_order=['Saga', 'VSMDPL'], bins=7, element=\"poly\", stat=\"density\", common_norm=False, common_bins=True, fill=False, ax=ax1, palette='viridis')"
   ]
  },
  {
   "attachments": {},
   "cell_type": "markdown",
   "metadata": {},
   "source": [
    "## SIM Compare prominence for different avg # satellites"
   ]
  },
  {
   "cell_type": "code",
   "execution_count": null,
   "metadata": {},
   "outputs": [],
   "source": [
    "VSMDPL_systems_multi = {}\n",
    "VSMDPL_plot_multi = {}\n",
    "\n",
    "for avg in list(vmax_cutoff_for_avg_num.keys())[:5]:\n",
    "    VSMDPL_systems_multi[avg], VSMDPL_plot_multi[avg] = get_ellipticity_and_prominence_data(VSMDPL_subs_multi[avg], iterations, 1)\n",
    "    VSMDPL_plot_multi[avg]['Average # Satellites'] = avg\n",
    "    VSMDPL_systems_multi[avg]['Datasource'] = 'VSMDPL ' + avg"
   ]
  },
  {
   "cell_type": "code",
   "execution_count": null,
   "metadata": {},
   "outputs": [],
   "source": [
    "VSMDPL_multi_plot_data = pd.concat(VSMDPL_plot_multi, ignore_index=True)\n",
    "VSMDPL_multi_plot_data = VSMDPL_multi_plot_data[VSMDPL_multi_plot_data['Dataset'] == 'Actual'].copy()\n",
    "\n",
    "fig, ax1 = plt.subplots()\n",
    "sp1 = sns.ecdfplot(data=VSMDPL_multi_plot_data, x=\"prominence\", hue='Average # Satellites', hue_order=['3.5', '4', '4.5', '5', '5.5'], complementary=True, ax=ax1)\n",
    "ax1.set_xscale('log')\n",
    "ax1.set_xlim(1,iterations)"
   ]
  },
  {
   "cell_type": "code",
   "execution_count": null,
   "metadata": {},
   "outputs": [],
   "source": [
    "for df in VSMDPL_systems_multi.values():\n",
    "    add_num_subs_column(df)"
   ]
  },
  {
   "cell_type": "code",
   "execution_count": null,
   "metadata": {},
   "outputs": [],
   "source": [
    "VSMDPL_multi_data = pd.concat(VSMDPL_systems_multi, ignore_index=True)\n",
    "fig, ax1 = plt.subplots()\n",
    "ax1.set_xlabel('$\\longleftarrow$ more spherical         Ellipticity (2D)         more elliptical $\\longrightarrow$')\n",
    "sp1 = sns.histplot(VSMDPL_multi_data, x=\"ellipticity\", hue=\"Datasource\", hue_order=['VSMDPL 3.5', 'VSMDPL 4', 'VSMDPL 4.5', 'VSMDPL 5', 'VSMDPL 5.5'], bins=7, element=\"poly\", stat=\"density\", common_norm=False, common_bins=True, fill=False, ax=ax1, palette='viridis')"
   ]
  },
  {
   "cell_type": "code",
   "execution_count": null,
   "metadata": {},
   "outputs": [],
   "source": [
    "all_data = pd.concat([VSMDPL_multi_data, saga_sim_ellipticity_data], ignore_index=True)\n",
    "\n",
    "fig, ax1 = plt.subplots()\n",
    "ax1.set_xlabel('$\\longleftarrow$ more spherical         Ellipticity (2D)         more elliptical $\\longrightarrow$')\n",
    "sp1 = sns.histplot(all_data, x=\"ellipticity\", hue=\"Datasource\", hue_order=['Saga', 'VSMDPL', 'VSMDPL 3.5', 'VSMDPL 4', 'VSMDPL 4.5', 'VSMDPL 5', 'VSMDPL 5.5'], bins=7, element=\"poly\", stat=\"density\", common_norm=False, common_bins=True, fill=False, ax=ax1, palette='viridis')"
   ]
  },
  {
   "attachments": {},
   "cell_type": "markdown",
   "metadata": {},
   "source": [
    "### VSMDPL Interloper cuts"
   ]
  },
  {
   "cell_type": "code",
   "execution_count": null,
   "metadata": {},
   "outputs": [],
   "source": [
    "VSMDPL_interloper_data, VSMDPL_interloper_plot = get_ellipticity_and_prominence_data(VSMDPL_subs_interlopers, iterations, 1)\n",
    "plot_prominence(VSMDPL_interloper_plot, iterations)\n",
    "# VSMDPL_interloper_data"
   ]
  },
  {
   "cell_type": "code",
   "execution_count": null,
   "metadata": {},
   "outputs": [],
   "source": []
  },
  {
   "cell_type": "code",
   "execution_count": null,
   "metadata": {},
   "outputs": [],
   "source": []
  },
  {
   "cell_type": "code",
   "execution_count": null,
   "metadata": {},
   "outputs": [],
   "source": []
  },
  {
   "attachments": {},
   "cell_type": "markdown",
   "metadata": {},
   "source": [
    "## Ellipticity and Prominence vs Host properties"
   ]
  },
  {
   "cell_type": "code",
   "execution_count": null,
   "metadata": {},
   "outputs": [],
   "source": [
    "add_num_subs_column(saga_data)\n",
    "saga = saga_hosts.merge(saga_data, on=\"HOSTID\")\n",
    "saga = saga.rename(columns={\"num_subs\":\"num_sats\"})\n",
    "saga"
   ]
  },
  {
   "cell_type": "code",
   "execution_count": null,
   "metadata": {},
   "outputs": [],
   "source": [
    "saga['num_sats'] = saga['num_sats'].astype(np.float64)\n",
    "saga\n"
   ]
  },
  {
   "cell_type": "code",
   "execution_count": null,
   "metadata": {},
   "outputs": [],
   "source": [
    "# sns.reset_defaults()\n",
    "sns.scatterplot(saga, x='ellipticity', y='prominence', edgecolor=None, hue=saga['num_sats'], palette='cividis', legend='full')\n",
    "plt.yscale('log')\n",
    "plt.xlim([0,1])\n",
    "plt.show()"
   ]
  },
  {
   "cell_type": "code",
   "execution_count": null,
   "metadata": {},
   "outputs": [],
   "source": [
    "# sns.reset_defaults()\n",
    "isotropic_saga_data = saga_plot[saga_plot['Dataset']=='Isotropic'].copy()\n",
    "isotropic_saga_data = isotropic_saga_data.merge(saga_data[['HOSTID', 'radii']], on='HOSTID').copy()\n",
    "add_num_subs_column(isotropic_saga_data)\n",
    "isotropic_saga_data = isotropic_saga_data.rename(columns={\"num_subs\":\"num_sats\"})\n",
    "\n",
    "\n",
    "sns.scatterplot(isotropic_saga_data, x='ellipticity', y='prominence', edgecolor=None, hue=isotropic_saga_data['num_sats'], palette='viridis', legend='full', size=1)\n",
    "plt.yscale('log')\n",
    "plt.xlim([0,1])\n",
    "plt.show()"
   ]
  },
  {
   "cell_type": "code",
   "execution_count": null,
   "metadata": {},
   "outputs": [],
   "source": [
    "saga_copy = saga[['HOSTID', 'ellipticity', 'prominence', 'Dataset', 'radii', 'num_sats']]\n",
    "raw_and_isotropic_saga_data = pd.concat([saga_copy, isotropic_saga_data])\n",
    "# raw_and_isotropic_saga_data[raw_and_isotropic_saga_data['Dataset'] == 'Actual']['edgecolor'] = 'white'\n",
    "raw_and_isotropic_saga_data.loc[raw_and_isotropic_saga_data[\"Dataset\"] == \"Actual\", \"edgecolor\"] = 'white'\n",
    "raw_and_isotropic_saga_data.loc[raw_and_isotropic_saga_data[\"Dataset\"] == \"Isotropic\", \"edgecolor\"] = 'None'\n",
    "raw_and_isotropic_saga_data\n"
   ]
  },
  {
   "cell_type": "code",
   "execution_count": null,
   "metadata": {},
   "outputs": [],
   "source": [
    "fig, ax = plt.subplots()\n",
    "sns.scatterplot(raw_and_isotropic_saga_data[raw_and_isotropic_saga_data['Dataset']=='Isotropic'], x='ellipticity', y='prominence', hue='num_sats', edgecolor=None, palette='viridis', legend=None, ax=ax, size=0.1)\n",
    "sns.scatterplot(raw_and_isotropic_saga_data[raw_and_isotropic_saga_data['Dataset']=='Actual'], x='ellipticity', y='prominence', hue='num_sats', edgecolor='white', palette='viridis', legend=None, ax=ax, linewidth=1)\n",
    "plt.yscale('log')\n",
    "plt.xlim([0,1])\n",
    "plt.show()"
   ]
  },
  {
   "cell_type": "code",
   "execution_count": null,
   "metadata": {},
   "outputs": [],
   "source": [
    "fig, axs = plt.subplots(ncols=4)\n",
    "fig.set_size_inches(30, 6, forward=True)\n",
    "sns.scatterplot(data=saga, x=\"MORPHTYPE\", y=\"ellipticity\", hue='num_sats', edgecolor=None, palette='viridis', ax=axs[0])\n",
    "sns.scatterplot(data=saga, x=\"radius\", y=\"ellipticity\", hue='num_sats', edgecolor=None, palette='viridis', ax=axs[1])\n",
    "sns.scatterplot(data=saga, x=\"ba\", y=\"ellipticity\", hue='num_sats', edgecolor=None, palette='viridis', ax=axs[2])\n",
    "sns.scatterplot(data=saga, x=\"phi\", y=\"ellipticity\", hue='num_sats', edgecolor=None, palette='viridis', ax=axs[3])"
   ]
  },
  {
   "cell_type": "code",
   "execution_count": null,
   "metadata": {},
   "outputs": [],
   "source": [
    "fig, axs = plt.subplots(ncols=4)\n",
    "fig.set_size_inches(30, 6, forward=True)\n",
    "sns.scatterplot(data=saga, x=\"sb_r\", y=\"ellipticity\", ax=axs[0])\n",
    "sns.scatterplot(data=saga, x=\"SERSIC\", y=\"ellipticity\", ax=axs[1])\n",
    "sns.scatterplot(data=saga, x=\"K_ABS\", y=\"ellipticity\", ax=axs[2])\n",
    "sns.scatterplot(data=saga, x=\"gr\", y=\"ellipticity\", ax=axs[3])"
   ]
  },
  {
   "cell_type": "code",
   "execution_count": null,
   "metadata": {},
   "outputs": [],
   "source": [
    "fig, axs = plt.subplots(ncols=4)\n",
    "fig.set_size_inches(30, 6, forward=True)\n",
    "sns.scatterplot(data=saga, x=\"MORPHTYPE\", y=\"prominence\", ax=axs[0])\n",
    "sns.scatterplot(data=saga, x=\"radius\", y=\"prominence\", ax=axs[1])\n",
    "sns.scatterplot(data=saga, x=\"ba\", y=\"prominence\", ax=axs[2])\n",
    "sns.scatterplot(data=saga, x=\"phi\", y=\"prominence\", ax=axs[3])\n",
    "axs[1].set_xscale('log')\n",
    "for ax in axs:\n",
    "    ax.set_yscale('log')s\n",
    "\n",
    "# next: show median prominence per morphology type (maybe group similar types together)"
   ]
  },
  {
   "cell_type": "code",
   "execution_count": null,
   "metadata": {},
   "outputs": [],
   "source": [
    "fig, axs = plt.subplots(ncols=4)\n",
    "fig.set_dpi(100)\n",
    "fig.set_size_inches(30, 6, forward=True)\n",
    "sns.scatterplot(data=saga, x=\"sb_r\", y=\"prominence\", ax=axs[0])\n",
    "sns.scatterplot(data=saga, x=\"SERSIC\", y=\"prominence\",ax=axs[1])\n",
    "sns.scatterplot(data=saga, x=\"K_ABS\", y=\"prominence\", ax=axs[2])\n",
    "sns.scatterplot(data=saga, x=\"gr\", y=\"prominence\", ax=axs[3])\n",
    "for ax in axs:\n",
    "    ax.set_yscale('log')"
   ]
  }
 ],
 "metadata": {
  "kernelspec": {
   "display_name": "satellite-ellipticities",
   "language": "python",
   "name": "python3"
  },
  "language_info": {
   "codemirror_mode": {
    "name": "ipython",
    "version": 3
   },
   "file_extension": ".py",
   "mimetype": "text/x-python",
   "name": "python",
   "nbconvert_exporter": "python",
   "pygments_lexer": "ipython3",
   "version": "3.9.16"
  },
  "orig_nbformat": 4,
  "vscode": {
   "interpreter": {
    "hash": "593019684f7021e8fe6a4c3db3cb5af2bec7f7dac2e37296bac94ddb3e8f915d"
   }
  }
 },
 "nbformat": 4,
 "nbformat_minor": 2
}
