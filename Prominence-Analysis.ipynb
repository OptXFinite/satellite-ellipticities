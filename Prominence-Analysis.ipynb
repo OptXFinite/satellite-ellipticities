{
 "cells": [
  {
   "cell_type": "code",
   "execution_count": null,
   "metadata": {},
   "outputs": [],
   "source": [
    "import numpy as np\n",
    "import pandas as pd\n",
    "import SAGA\n",
    "\n",
    "from SAGA import ObjectCuts as C"
   ]
  },
  {
   "cell_type": "code",
   "execution_count": null,
   "metadata": {},
   "outputs": [],
   "source": [
    "# from SAGA-halo-ellipticities (filtered + cartesian coords)\n",
    "%store -r saga_sats \n",
    "%store -r VSMDPL_subs\n",
    "%store -r ellipticity_df_VSMDPL\n",
    "%store -r ellipticity_df_SAGA"
   ]
  },
  {
   "cell_type": "code",
   "execution_count": null,
   "metadata": {},
   "outputs": [],
   "source": [
    "ellipticity_df_VSMDPL.rename(columns = {'upid':'HOSTID'}, inplace = True)\n",
    "VSMDPL_subs.rename(columns = {'upid':'HOSTID'}, inplace = True)\n"
   ]
  },
  {
   "cell_type": "code",
   "execution_count": null,
   "metadata": {},
   "outputs": [],
   "source": [
    "def get_expected_ellipticities(data_set):\n",
    "\n",
    "    expected_ellipticity_for_radial_dist = [] # an array of arrays to be made into data frame\n",
    "\n",
    "    for upid, radii in zip(data_set['HOSTID'], data_set['radii']):\n",
    "        # Generate random, normalized satellite positions\n",
    "        num_sats = len(radii)\n",
    "        radial_stdev = np.std(radii)\n",
    "\n",
    "\n",
    "        coords = np.random.randn(10000, num_sats, 2)  # (number of times to repeat data set generation, how many satellites, how many spatial dimensions)\n",
    "        calc_radii = np.sqrt((coords**2).sum(axis=2))\n",
    "        normalized_coords = coords/calc_radii[:,:,np.newaxis]\n",
    "        \n",
    "        # Move the positions of satellites out or in radially until they reach original radial scale\n",
    "        reshaped_radii = np.reshape(radii, (1,len(radii), 1))\n",
    "        scaled_coords = normalized_coords*reshaped_radii\n",
    "        # print('Scaled coordinates:')\n",
    "        # print(scaled_coords)\n",
    "        \n",
    "        \n",
    "        # Calculate ellipticity\n",
    "        \n",
    "        # # First get quadrupole moments\n",
    "        scaled_coords_squared = np.square(scaled_coords)\n",
    "        # print('Scaled coordinates, squared:')\n",
    "        # print(scaled_coords_squared)\n",
    "        \n",
    "        xdiff_ydiff_col = np.prod(scaled_coords, axis=2)\n",
    "        xdiff_ydiff_col = xdiff_ydiff_col[:,:,np.newaxis]\n",
    "        # print('create x_diff*y_diff column')\n",
    "        # print(xdiff_ydiff_col)\n",
    "        \n",
    "        quadrupole_moments_setup = np.insert(scaled_coords_squared, 0, [[[xdiff_ydiff_col]]], axis=2) # diffx*diffy now at position 0\n",
    "        # print('quadrupole moment setup:')\n",
    "        # print(quadrupole_moments_setup)\n",
    "        quadrupole_moments = quadrupole_moments_setup.mean(axis=1)\n",
    "        # print('quadrupole_moments:')\n",
    "        # print(quadrupole_moments) # note again that quadrupole_moments elements go [Qxy, Qxx, Qyy]\n",
    "\n",
    "\n",
    "        # # Get ellipticity from quadrupole moments\n",
    "        # Q_xy, Q_xx, Q_yy = np.quadrupole_moments\n",
    "        quadrupole_xx_yy = quadrupole_moments[:,1:3]\n",
    "        quadrupole_xy = quadrupole_moments[:,0:1]\n",
    "        \n",
    "        e_1_numerator = -np.diff(quadrupole_xx_yy, axis=1)\n",
    "        e_2_numerator = 2*quadrupole_xy\n",
    "        \n",
    "        e_denominator_1 = np.sum(quadrupole_xx_yy, axis=1)[:,np.newaxis]\n",
    "        e_denominator_inside_sqrt = np.prod(quadrupole_xx_yy, axis=1)[:,np.newaxis] - quadrupole_xy**2\n",
    "        e_denominator = e_denominator_1 + 2*np.sqrt(e_denominator_inside_sqrt)\n",
    "        \n",
    "        e_1 = e_1_numerator / e_denominator\n",
    "        e_2 = e_2_numerator / e_denominator\n",
    "        \n",
    "        \n",
    "        ellipticities = np.sqrt(e_1**2 + e_2**2)[:,0]\n",
    "        ellipticity_avg = np.mean(ellipticities)\n",
    "        ellipticity_std = np.std(ellipticities)\n",
    "\n",
    "        # print('average for host id {}'.format(upid))\n",
    "        # print(ellipticity_avg)\n",
    "        # print('standard deviation')\n",
    "        # print(ellipticity_std)\n",
    "        # break\n",
    "\n",
    "        expected_ellipticity_for_radial_dist.append([upid, ellipticity_avg, ellipticity_std, num_sats, radial_stdev])\n",
    "    return expected_ellipticity_for_radial_dist"
   ]
  },
  {
   "cell_type": "code",
   "execution_count": null,
   "metadata": {},
   "outputs": [],
   "source": [
    "def get_prominence(actual, randomized):\n",
    "    prominence_table = pd.merge(actual, randomized, left_on='HOSTID', right_on='HOSTID')\n",
    "    prominence_table = prominence_table[['HOSTID', 'e_3', 'ellipticity_exp', 'ellipticty_stdev', 'num_sats', 'radial_stdev']]\n",
    "    prominence_table['z_score'] = ( prominence_table['e_3'] - prominence_table['ellipticity_exp'] ) / prominence_table['ellipticty_stdev']\n",
    "    prominence_table['outlier'] = abs(prominence_table['z_score']) >= 2\n",
    "    prominence_table.sort_values(by=['z_score'])\n",
    "    return prominence_table"
   ]
  },
  {
   "cell_type": "markdown",
   "metadata": {},
   "source": [
    "<h2>SAGA</h2>"
   ]
  },
  {
   "cell_type": "code",
   "execution_count": null,
   "metadata": {},
   "outputs": [],
   "source": [
    "saga_sats['R'] = np.sqrt((saga_sats['X']-saga_sats['HOST_X'])**2 + (saga_sats['Y']-saga_sats['HOST_Y'])**2)\n",
    "display(saga_sats)"
   ]
  },
  {
   "cell_type": "code",
   "execution_count": null,
   "metadata": {},
   "outputs": [],
   "source": [
    "SAGA_prominence = pd.DataFrame(saga_sats.groupby('HOSTID')['R'].apply(list).rename('radii'))\n",
    "SAGA_prominence.reset_index(inplace=True)\n",
    "SAGA_prominence\n"
   ]
  },
  {
   "cell_type": "code",
   "execution_count": null,
   "metadata": {},
   "outputs": [],
   "source": [
    "expected_ellipticity_for_radial_dist = get_expected_ellipticities(SAGA_prominence)\n",
    "expected_ellipticities_SAGA = pd.DataFrame(expected_ellipticity_for_radial_dist, columns=['HOSTID', 'ellipticity_exp', 'ellipticty_stdev', 'num_sats', 'radial_stdev'])"
   ]
  },
  {
   "cell_type": "code",
   "execution_count": null,
   "metadata": {},
   "outputs": [],
   "source": [
    "prominence_table_SAGA = get_prominence(ellipticity_df_SAGA, expected_ellipticities_SAGA)\n",
    "prominence_table_SAGA.sort_values(by=['z_score'])\n"
   ]
  },
  {
   "cell_type": "markdown",
   "metadata": {},
   "source": [
    "<h2>SIM</h2>"
   ]
  },
  {
   "cell_type": "markdown",
   "metadata": {},
   "source": [
    "<h3>2D</h3>"
   ]
  },
  {
   "cell_type": "code",
   "execution_count": null,
   "metadata": {},
   "outputs": [],
   "source": [
    "display(VSMDPL_subs)"
   ]
  },
  {
   "cell_type": "code",
   "execution_count": null,
   "metadata": {},
   "outputs": [],
   "source": [
    "# add radius to each line\n",
    "VSMDPL_subs['3D_radius'] = np.sqrt((VSMDPL_subs['x_adj']-VSMDPL_subs['x_host'])**2+(VSMDPL_subs['y_adj']-VSMDPL_subs['y_host'])**2+(VSMDPL_subs['z_adj']-VSMDPL_subs['z_host'])**2)\n",
    "VSMDPL_subs['xy_radius'] = np.sqrt((VSMDPL_subs['x_adj']-VSMDPL_subs['x_host'])**2+(VSMDPL_subs['y_adj']-VSMDPL_subs['y_host'])**2)\n",
    "\n",
    "# make a new data frame that has first column upid, second column list of radii\n",
    "VSMDPL_prominence = pd.DataFrame(VSMDPL_subs.groupby('HOSTID')['xy_radius'].apply(list).rename('radii'))\n",
    "VSMDPL_prominence.reset_index(inplace=True)\n",
    "VSMDPL_prominence"
   ]
  },
  {
   "cell_type": "code",
   "execution_count": null,
   "metadata": {},
   "outputs": [],
   "source": [
    "expected_ellipticity_for_radial_dist = get_expected_ellipticities(VSMDPL_prominence)\n",
    "expected_ellipticities_VSMDPL = pd.DataFrame(expected_ellipticity_for_radial_dist, columns=['HOSTID', 'ellipticity_exp', 'ellipticty_stdev', 'num_sats', 'radial_stdev'])"
   ]
  },
  {
   "cell_type": "code",
   "execution_count": null,
   "metadata": {},
   "outputs": [],
   "source": [
    "prominence_table_VSMDPL = get_prominence(ellipticity_df_VSMDPL, expected_ellipticities_VSMDPL)\n",
    "prominence_table_VSMDPL.sort_values(by=['z_score'])"
   ]
  },
  {
   "cell_type": "code",
   "execution_count": null,
   "metadata": {},
   "outputs": [],
   "source": [
    "%store prominence_table_VSMDPL\n",
    "%store prominence_table_SAGA"
   ]
  },
  {
   "cell_type": "code",
   "execution_count": null,
   "metadata": {},
   "outputs": [],
   "source": []
  },
  {
   "cell_type": "code",
   "execution_count": null,
   "metadata": {},
   "outputs": [],
   "source": []
  }
 ],
 "metadata": {
  "kernelspec": {
   "display_name": "satellite-ellipticities",
   "language": "python",
   "name": "python3"
  },
  "language_info": {
   "codemirror_mode": {
    "name": "ipython",
    "version": 3
   },
   "file_extension": ".py",
   "mimetype": "text/x-python",
   "name": "python",
   "nbconvert_exporter": "python",
   "pygments_lexer": "ipython3",
   "version": "3.9.16 (main, Jan 11 2023, 16:05:54) \n[GCC 11.2.0]"
  },
  "orig_nbformat": 4,
  "vscode": {
   "interpreter": {
    "hash": "593019684f7021e8fe6a4c3db3cb5af2bec7f7dac2e37296bac94ddb3e8f915d"
   }
  }
 },
 "nbformat": 4,
 "nbformat_minor": 2
}
